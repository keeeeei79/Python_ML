{
 "cells": [
  {
   "cell_type": "code",
   "execution_count": 36,
   "metadata": {
    "collapsed": true
   },
   "outputs": [],
   "source": [
    "%matplotlib inline"
   ]
  },
  {
   "cell_type": "code",
   "execution_count": 12,
   "metadata": {
    "collapsed": true
   },
   "outputs": [],
   "source": [
    "theano.config.floatX = 'float32'"
   ]
  },
  {
   "cell_type": "code",
   "execution_count": 4,
   "metadata": {
    "collapsed": false,
    "scrolled": false
   },
   "outputs": [],
   "source": [
    "import theano\n",
    "from theano import tensor as T\n",
    "#初期化: scalarメソッドではスカラー(単純な配列)を生成\n",
    "x1 = T.scalar()\n",
    "w1 = T.scalar()\n",
    "w0 = T.scalar()\n",
    "z1 = w1 * x1 * w0"
   ]
  },
  {
   "cell_type": "code",
   "execution_count": 6,
   "metadata": {
    "collapsed": false
   },
   "outputs": [],
   "source": [
    "#コンパイル\n",
    "net_input = theano.function(inputs=[w1, x1, w0], outputs=z1)"
   ]
  },
  {
   "cell_type": "code",
   "execution_count": 7,
   "metadata": {
    "collapsed": false
   },
   "outputs": [
    {
     "name": "stdout",
     "output_type": "stream",
     "text": [
      "Net input: 1.00\n"
     ]
    }
   ],
   "source": [
    "#実行\n",
    "print('Net input: %.2f' % net_input(2.0, 1.0, 0.5))"
   ]
  },
  {
   "cell_type": "code",
   "execution_count": 8,
   "metadata": {
    "collapsed": false
   },
   "outputs": [
    {
     "data": {
      "text/plain": [
       "array(1.0)"
      ]
     },
     "execution_count": 8,
     "metadata": {},
     "output_type": "execute_result"
    }
   ],
   "source": [
    "net_input(2.0, 1.0, 0.5)"
   ]
  },
  {
   "cell_type": "code",
   "execution_count": 15,
   "metadata": {
    "collapsed": false
   },
   "outputs": [
    {
     "name": "stdout",
     "output_type": "stream",
     "text": [
      "float32\n"
     ]
    }
   ],
   "source": [
    "print(theano.config.floatX)"
   ]
  },
  {
   "cell_type": "code",
   "execution_count": 10,
   "metadata": {
    "collapsed": true
   },
   "outputs": [],
   "source": [
    "theano.config.floatX = 'float32'"
   ]
  },
  {
   "cell_type": "code",
   "execution_count": 13,
   "metadata": {
    "collapsed": false
   },
   "outputs": [
    {
     "name": "stdout",
     "output_type": "stream",
     "text": [
      "cpu\n"
     ]
    }
   ],
   "source": [
    "print(theano.config.device)"
   ]
  },
  {
   "cell_type": "code",
   "execution_count": 17,
   "metadata": {
    "collapsed": false
   },
   "outputs": [
    {
     "name": "stdout",
     "output_type": "stream",
     "text": [
      "Column sum: [ 2.  4.  6.]\n",
      "Column sum: [ 2.  4.  6.]\n"
     ]
    }
   ],
   "source": [
    "import numpy as np\n",
    "#初期化\n",
    "x = T.fmatrix(name='x')\n",
    "x_sum = T.sum(x, axis=0)\n",
    "\n",
    "#コンパイル\n",
    "calc_sum = theano.function(inputs=[x], outputs=x_sum)\n",
    "\n",
    "#実行(Pythonリスト)\n",
    "ary = [[1,2,3], [1,2,3]]\n",
    "print('Column sum:', calc_sum(ary))\n",
    "\n",
    "#実行(Numpy配列)\n",
    "ary = np.array([[1,2,3], [1,2,3]], dtype=theano.config.floatX)\n",
    "print('Column sum:', calc_sum(ary))"
   ]
  },
  {
   "cell_type": "code",
   "execution_count": 19,
   "metadata": {
    "collapsed": false
   },
   "outputs": [
    {
     "name": "stdout",
     "output_type": "stream",
     "text": [
      "x\n",
      "<TensorType(float32, matrix)>\n"
     ]
    }
   ],
   "source": [
    "print(x)\n",
    "print(x.type())"
   ]
  },
  {
   "cell_type": "code",
   "execution_count": 22,
   "metadata": {
    "collapsed": false
   },
   "outputs": [
    {
     "name": "stdout",
     "output_type": "stream",
     "text": [
      "z0: [[ 0.]]\n",
      "z1: [[ 6.]]\n",
      "z2: [[ 12.]]\n",
      "z3: [[ 18.]]\n",
      "z4: [[ 24.]]\n"
     ]
    }
   ],
   "source": [
    "#初期化\n",
    "x = T.fmatrix('x')\n",
    "w = theano.shared(np.asarray([[0.0, 0.0, 0.0]], dtype=theano.config.floatX))\n",
    "z = x.dot(w.T)\n",
    "update = [[w, w + 1.0]]\n",
    "\n",
    "#コンパイル\n",
    "net_input = theano.function(inputs=[x], updates=update, outputs=z)\n",
    "\n",
    "#実行\n",
    "#️for文を繰り返すたびにupdate式でupdate\n",
    "data = np.array([[1,2,3]], dtype=theano.config.floatX)\n",
    "for i in range(5):\n",
    "    print('z%d:' % i, net_input(data))"
   ]
  },
  {
   "cell_type": "code",
   "execution_count": 20,
   "metadata": {
    "collapsed": false
   },
   "outputs": [
    {
     "data": {
      "text/plain": [
       "array([[ 0.,  0.,  0.]])"
      ]
     },
     "execution_count": 20,
     "metadata": {},
     "output_type": "execute_result"
    }
   ],
   "source": [
    "np.asarray([[0.0, 0.0, 0.0]])"
   ]
  },
  {
   "cell_type": "code",
   "execution_count": 23,
   "metadata": {
    "collapsed": false
   },
   "outputs": [
    {
     "name": "stdout",
     "output_type": "stream",
     "text": [
      "z0 [[ 0.]]\n",
      "z1 [[ 6.]]\n",
      "z2 [[ 12.]]\n",
      "z3 [[ 18.]]\n",
      "z4 [[ 24.]]\n"
     ]
    }
   ],
   "source": [
    "#初期化\n",
    "data = np.array([[1,2,3]], dtype=theano.config.floatX)\n",
    "x = T.fmatrix('x')\n",
    "w = theano.shared(np.asarray([[0.0,0.0,0.0]], dtype=theano.config.floatX))\n",
    "z = x.dot(w.T)\n",
    "update = [[w, w+1.0]]\n",
    "#コンパイル\n",
    "net_input = theano.function(inputs=[], updates=update, givens={x:data}, outputs=z)\n",
    "#実行\n",
    "for i in range(5):\n",
    "    print('z%d' % i , net_input())"
   ]
  },
  {
   "cell_type": "markdown",
   "metadata": {},
   "source": [
    "線形回帰"
   ]
  },
  {
   "cell_type": "code",
   "execution_count": 28,
   "metadata": {
    "collapsed": false
   },
   "outputs": [
    {
     "data": {
      "text/plain": [
       "(1, 3)"
      ]
     },
     "execution_count": 28,
     "metadata": {},
     "output_type": "execute_result"
    }
   ],
   "source": [
    "data.shape"
   ]
  },
  {
   "cell_type": "code",
   "execution_count": 24,
   "metadata": {
    "collapsed": true
   },
   "outputs": [],
   "source": [
    "X_train = np.asarray([[0.0], [1.0],\n",
    "                                      [2.0], [3.0],\n",
    "                                      [4.0],[5.0],\n",
    "                                      [6.0], [7.0],\n",
    "                                      [8.0], [9.0]], dtype=theano.config.floatX)\n",
    "y_train = np.asarray([1.0, 1.3,\n",
    "                                      3.1,2.0,\n",
    "                                      5.0, 6.3,\n",
    "                                      6.6, 7.4,\n",
    "                                      8.0, 9.0], dtype=theano.config.floatX)"
   ]
  },
  {
   "cell_type": "code",
   "execution_count": 26,
   "metadata": {
    "collapsed": false
   },
   "outputs": [
    {
     "data": {
      "text/plain": [
       "(10, 1)"
      ]
     },
     "execution_count": 26,
     "metadata": {},
     "output_type": "execute_result"
    }
   ],
   "source": [
    "X_train.shape"
   ]
  },
  {
   "cell_type": "code",
   "execution_count": 33,
   "metadata": {
    "collapsed": false
   },
   "outputs": [],
   "source": [
    "w = np.zeros(shape=(X_train.shape[1] ))"
   ]
  },
  {
   "cell_type": "code",
   "execution_count": 34,
   "metadata": {
    "collapsed": false
   },
   "outputs": [
    {
     "data": {
      "text/plain": [
       "array([ 0.,  0.,  0.,  0.,  0.,  0.,  0.,  0.,  0.,  0.])"
      ]
     },
     "execution_count": 34,
     "metadata": {},
     "output_type": "execute_result"
    }
   ],
   "source": [
    "X_train.dot(w)"
   ]
  },
  {
   "cell_type": "code",
   "execution_count": 29,
   "metadata": {
    "collapsed": false,
    "scrolled": true
   },
   "outputs": [
    {
     "data": {
      "text/plain": [
       "(10,)"
      ]
     },
     "execution_count": 29,
     "metadata": {},
     "output_type": "execute_result"
    }
   ],
   "source": [
    "y_train.shape"
   ]
  },
  {
   "cell_type": "code",
   "execution_count": 38,
   "metadata": {
    "collapsed": true
   },
   "outputs": [],
   "source": [
    "import theano\n",
    "from theano import tensor as T\n",
    "import numpy as np\n",
    "\n",
    "def train_linreg(X_train, y_train, eta, epochs):\n",
    "    costs = []\n",
    "    #配列の初期化\n",
    "    eta0 = T.fscalar('eta0') # float32型のスカラーのインスタンス\n",
    "    y = T.fvector(name='y') # float32型のベクトルのインスタンス\n",
    "    X = T.fmatrix(name='x') # float32型の行列のインスタンス\n",
    "    #重みwを関数内で参照可能な共有関数として作成\n",
    "    w = theano.shared(np.zeros(shape=(X_train.shape[1] +1),\n",
    "                                      dtype=theano.config.floatX),\n",
    "                                      name='w')\n",
    "    \n",
    "    #コストの計算\n",
    "    net_input = T.dot(X, w[1:]) + w[0]#重みを用いて総入力を計算\n",
    "    errors = y - net_input                       #yと総入力の誤差\n",
    "    cost = T.sum(T.pow(errors, 2))      #誤差の平方和\n",
    "    \n",
    "    #重みの更新\n",
    "    gradient = T.grad(cost, wrt=w)#コストの勾配(自動微分)\n",
    "    update = [(w, w - eta0 * gradient)] #コストの勾配に学習率をかけて重みwを更新\n",
    "    \n",
    "    \n",
    "    #モデルのコンパイル\n",
    "    train = theano.function(inputs=[eta0], outputs=cost, updates=update, givens={X: X_train, y: y_train})\n",
    "    \n",
    "    #実行\n",
    "    for _ in range(epochs):\n",
    "        costs.append(train(eta))\n",
    "    \n",
    "    return costs, w\n",
    "    "
   ]
  },
  {
   "cell_type": "code",
   "execution_count": 40,
   "metadata": {
    "collapsed": false
   },
   "outputs": [
    {
     "data": {
      "image/png": "[encoded data removed]",
      "text/plain": [
       "<matplotlib.figure.Figure at 0x1102eceb8>"
      ]
     },
     "metadata": {},
     "output_type": "display_data"
    }
   ],
   "source": [
    "import matplotlib.pyplot as plt\n",
    "costs, w = train_linreg(X_train, y_train, eta=0.001, epochs=10)\n",
    "plt.plot(range(1, len(costs)+1), costs)\n",
    "plt.xlabel('Epoch')\n",
    "plt.ylabel('Cost')\n",
    "plt.tight_layout()\n",
    "plt.show()"
   ]
  },
  {
   "cell_type": "code",
   "execution_count": 41,
   "metadata": {
    "collapsed": true
   },
   "outputs": [],
   "source": [
    "def predict_linreg(X, w):\n",
    "    Xt = T.matrix(name='X')\n",
    "    net_input = T.dot(Xt, w[1:]) + w[0]\n",
    "    predict = theano.function(inputs=[Xt], givens={w:w}, outputs=net_input)\n",
    "    \n",
    "    return predict(X)"
   ]
  },
  {
   "cell_type": "code",
   "execution_count": 44,
   "metadata": {
    "collapsed": false
   },
   "outputs": [
    {
     "data": {
      "image/png": "[encoded data removed]",
      "text/plain": [
       "<matplotlib.figure.Figure at 0x110f22278>"
      ]
     },
     "metadata": {},
     "output_type": "display_data"
    }
   ],
   "source": [
    "plt.scatter(X_train, y_train, marker='s', s=50)\n",
    "plt.plot(range(X_train.shape[0]), predict_linreg(X_train, w),\n",
    "        color='gray', marker='o', markersize=4, lw=3)\n",
    "plt.xlabel('x')\n",
    "plt.ylabel('y')\n",
    "plt.show()"
   ]
  },
  {
   "cell_type": "code",
   "execution_count": 43,
   "metadata": {
    "collapsed": false,
    "scrolled": true
   },
   "outputs": [
    {
     "data": {
      "text/plain": [
       "range(0, 10)"
      ]
     },
     "execution_count": 43,
     "metadata": {},
     "output_type": "execute_result"
    }
   ],
   "source": [
    "range(X_train.shape[0])"
   ]
  },
  {
   "cell_type": "code",
   "execution_count": 46,
   "metadata": {
    "collapsed": false
   },
   "outputs": [
    {
     "name": "stdout",
     "output_type": "stream",
     "text": [
      "P(y=1|x) = 0.707\n"
     ]
    }
   ],
   "source": [
    "X  = np.array([[1, 1.4, 1.5]])\n",
    "w = np.array([0.0, 0.2, 0.4])\n",
    "\n",
    "def net_input(X, w):\n",
    "    z = X.dot(w)\n",
    "    return z\n",
    "\n",
    "def logistic(z):\n",
    "    return 1.0/(1.0 + np.exp(-z))\n",
    "\n",
    "def logistic_activation(X, w):\n",
    "    z = net_input(X, w)\n",
    "    return logistic(z)\n",
    "\n",
    "print('P(y=1|x) = %.3f' % logistic_activation(X, w)[0])"
   ]
  },
  {
   "cell_type": "code",
   "execution_count": 47,
   "metadata": {
    "collapsed": false
   },
   "outputs": [
    {
     "name": "stdout",
     "output_type": "stream",
     "text": [
      "Probabilities:\n",
      " [[ 0.87653295]\n",
      " [ 0.57688526]\n",
      " [ 0.90114393]]\n"
     ]
    }
   ],
   "source": [
    "#W: array, shape= [n_output_units, n_hidden_units+1]\n",
    "#隠れ層 -> 出力層の重み行列\n",
    "#最初の列はバイアスユニット\n",
    "W = np.array([[1.1, 1.2, 1.3, 0.5],\n",
    "             [0.1, 0.2, 0.4, 0.1],\n",
    "             [0.2, 0.5, 2.1, 1.9]])\n",
    "\n",
    "#A: array, shape=[n_hidden+1, n_samples]\n",
    "#隠れ層の活性化\n",
    "#最初の要素はバイアスユニット\n",
    "A = np.array([[1.0],\n",
    "             [0.1],\n",
    "             [0.3],\n",
    "             [0.7]])\n",
    "\n",
    "#Z: array, shape=[n_output_units, n_samples]\n",
    "#出力層の総入力\n",
    "Z = W.dot(A)\n",
    "y_probas = logistic(Z)\n",
    "print('Probabilities:\\n', y_probas)"
   ]
  },
  {
   "cell_type": "code",
   "execution_count": 48,
   "metadata": {
    "collapsed": false
   },
   "outputs": [
    {
     "name": "stdout",
     "output_type": "stream",
     "text": [
      "predicted class label: 2\n"
     ]
    }
   ],
   "source": [
    "y_class = np.argmax(Z, axis=0)\n",
    "print('predicted class label: %d' % y_class[0])"
   ]
  },
  {
   "cell_type": "code",
   "execution_count": 52,
   "metadata": {
    "collapsed": false
   },
   "outputs": [
    {
     "data": {
      "text/plain": [
       "array([2])"
      ]
     },
     "execution_count": 52,
     "metadata": {},
     "output_type": "execute_result"
    }
   ],
   "source": [
    "y_class"
   ]
  },
  {
   "cell_type": "code",
   "execution_count": 54,
   "metadata": {
    "collapsed": false
   },
   "outputs": [
    {
     "name": "stdout",
     "output_type": "stream",
     "text": [
      "Probabilities: \n",
      " [[ 0.40386493]\n",
      " [ 0.07756222]\n",
      " [ 0.51857284]]\n"
     ]
    }
   ],
   "source": [
    "def softmax(z):\n",
    "    return np.exp(z) / np.sum(np.exp(z))\n",
    "\n",
    "def softmax_activation(X, w):\n",
    "    z = net_input(X, w)\n",
    "    return softmax(z)\n",
    "\n",
    "y_probs = softmax(Z)\n",
    "print('Probabilities: \\n' , y_probs)"
   ]
  },
  {
   "cell_type": "code",
   "execution_count": 55,
   "metadata": {
    "collapsed": false
   },
   "outputs": [
    {
     "data": {
      "text/plain": [
       "1.0"
      ]
     },
     "execution_count": 55,
     "metadata": {},
     "output_type": "execute_result"
    }
   ],
   "source": [
    "y_probs.sum()"
   ]
  },
  {
   "cell_type": "code",
   "execution_count": 56,
   "metadata": {
    "collapsed": false
   },
   "outputs": [
    {
     "data": {
      "text/plain": [
       "array([[ 7.09932707],\n",
       "       [ 1.36342511],\n",
       "       [ 9.11571639]])"
      ]
     },
     "execution_count": 56,
     "metadata": {},
     "output_type": "execute_result"
    }
   ],
   "source": [
    "np.exp(Z)"
   ]
  },
  {
   "cell_type": "code",
   "execution_count": 57,
   "metadata": {
    "collapsed": false
   },
   "outputs": [
    {
     "data": {
      "text/plain": [
       "array([[ 1.96],\n",
       "       [ 0.31],\n",
       "       [ 2.21]])"
      ]
     },
     "execution_count": 57,
     "metadata": {},
     "output_type": "execute_result"
    }
   ],
   "source": [
    "Z"
   ]
  },
  {
   "cell_type": "code",
   "execution_count": 58,
   "metadata": {
    "collapsed": false
   },
   "outputs": [
    {
     "data": {
      "image/png": "[encoded data removed]",
      "text/plain": [
       "<matplotlib.figure.Figure at 0x110f3bd30>"
      ]
     },
     "metadata": {},
     "output_type": "display_data"
    }
   ],
   "source": [
    "import matplotlib.pyplot as plt\n",
    "\n",
    "def tanh(z):\n",
    "    e_p = np.exp(z)\n",
    "    e_m = np.exp(-z)\n",
    "    return (e_p - e_m) / (e_p + e_m)\n",
    "\n",
    "z = np.arange(-5, 5, 0.005)\n",
    "log_act = logistic(z)\n",
    "tanh_act = tanh(z)\n",
    "plt.ylim([-1.5, 1.5])\n",
    "plt.xlabel('net input $z$')\n",
    "plt.ylabel('activation $\\phi(z)$')\n",
    "plt.axhline(1, color='black', linestyle='--')\n",
    "plt.axhline(0.5, color='black', linestyle='--')\n",
    "plt.axhline(0, color='black', linestyle='--')\n",
    "plt.axhline(-1, color='black', linestyle='--')\n",
    "plt.plot(z, tanh_act, lw=2, color='black', label='tanh')\n",
    "plt.plot(z, log_act, lw=2, color='lightgreen', label='logistic')\n",
    "plt.legend(loc='lower right')\n",
    "plt.show()"
   ]
  },
  {
   "cell_type": "code",
   "execution_count": 66,
   "metadata": {
    "collapsed": false,
    "scrolled": false
   },
   "outputs": [
    {
     "name": "stderr",
     "output_type": "stream",
     "text": [
      "Using TensorFlow backend.\n"
     ]
    }
   ],
   "source": [
    "import keras"
   ]
  },
  {
   "cell_type": "code",
   "execution_count": 69,
   "metadata": {
    "collapsed": true
   },
   "outputs": [],
   "source": [
    "import os\n",
    "import struct\n",
    "import numpy as np\n",
    "def load_mnist(path, kind='train'):\n",
    "    \"\"\"MNISTデータをpathからロード\"\"\"\n",
    "    #引数を指定したパスを結合(ラベルや画像のパスを作成)\n",
    "    labels_path = os.path.join(path, '%s-labels-idx1-ubyte' %kind)\n",
    "    images_path = os.path.join(path, '%s-images-idx3-ubyte' %kind)\n",
    "    \n",
    "    #ファイルを読み込む:\n",
    "    #引数にファイル、モードを指定\n",
    "    with open(labels_path, 'rb') as lbpath:\n",
    "        #バイナリーを文字列に変換: unpack関数の引数にフォーマット(>はビッグエンディアン、Iは符号なし整数)、\n",
    "        #８バイト分のバイナリーデータを指定してマジックナンバー、アイテムの個数を読み込む\n",
    "        #ヘッダ領域が 8 バイト\n",
    "        magic, n = struct.unpack('>II', lbpath.read(8))\n",
    "        #ファイルからラベルを読み込み、配列を構築: fromfile関数の引数にファイル、配列のデータ形式を指定\n",
    "        labels = np.fromfile(lbpath, dtype=np.uint8)\n",
    "        \n",
    "    with open(images_path, 'rb') as imgpath:\n",
    "        #ヘッダ領域が 16 バイト\n",
    "        magic, num, rows, cols = struct.unpack(\">IIII\", imgpath.read(16))\n",
    "        #画像ピクセル情報の配列のサイズを変更\n",
    "        # (行数:ラベルのサイズ, 列数:特徴量の個数)\n",
    "        images = np.fromfile(imgpath, dtype=np.uint8).reshape(len(labels), 784)\n",
    "        \n",
    "    return images, labels"
   ]
  },
  {
   "cell_type": "code",
   "execution_count": 70,
   "metadata": {
    "collapsed": false
   },
   "outputs": [
    {
     "name": "stdout",
     "output_type": "stream",
     "text": [
      "Rows: 60000, columns: 784\n",
      "Rows: 10000, columns: 784\n"
     ]
    }
   ],
   "source": [
    "X_train, y_train = load_mnist('/Users/keeeeei/Desktop/データ分析/Python機械学習プログラミング/mnist', kind='train')\n",
    "print('Rows: %d, columns: %d' %(X_train.shape[0], X_train.shape[1]))\n",
    "X_test, y_test = load_mnist('/Users/keeeeei/Desktop/データ分析/Python機械学習プログラミング/mnist', kind='t10k')\n",
    "print('Rows: %d, columns: %d' %(X_test.shape[0], X_test.shape[1]))"
   ]
  },
  {
   "cell_type": "code",
   "execution_count": 71,
   "metadata": {
    "collapsed": true
   },
   "outputs": [],
   "source": [
    "import theano\n",
    "theano.config.floatX = 'float32'\n",
    "X_train = X_train.astype(theano.config.floatX)\n",
    "X_test = X_test.astype(theano.config.floatX)"
   ]
  },
  {
   "cell_type": "code",
   "execution_count": 73,
   "metadata": {
    "collapsed": false
   },
   "outputs": [
    {
     "name": "stdout",
     "output_type": "stream",
     "text": [
      "First 3 labels:  [5 0 4]\n",
      "\n",
      "First 3 labels (one-hot): \n",
      " [[ 0.  0.  0.  0.  0.  1.  0.  0.  0.  0.]\n",
      " [ 1.  0.  0.  0.  0.  0.  0.  0.  0.  0.]\n",
      " [ 0.  0.  0.  0.  1.  0.  0.  0.  0.  0.]]\n"
     ]
    }
   ],
   "source": [
    "from keras.utils import np_utils\n",
    "print('First 3 labels: ', y_train[:3])\n",
    "y_train_ohe = np_utils.to_categorical(y_train)\n",
    "print('\\nFirst 3 labels (one-hot): \\n' , y_train_ohe[:3])"
   ]
  },
  {
   "cell_type": "code",
   "execution_count": 74,
   "metadata": {
    "collapsed": false
   },
   "outputs": [
    {
     "data": {
      "text/plain": [
       "(60000, 10)"
      ]
     },
     "execution_count": 74,
     "metadata": {},
     "output_type": "execute_result"
    }
   ],
   "source": [
    "y_train_ohe.shape"
   ]
  },
  {
   "cell_type": "code",
   "execution_count": 75,
   "metadata": {
    "collapsed": false
   },
   "outputs": [
    {
     "data": {
      "text/plain": [
       "'cpu'"
      ]
     },
     "execution_count": 75,
     "metadata": {},
     "output_type": "execute_result"
    }
   ],
   "source": [
    "theano.config.device"
   ]
  },
  {
   "cell_type": "code",
   "execution_count": 86,
   "metadata": {
    "collapsed": false
   },
   "outputs": [
    {
     "name": "stdout",
     "output_type": "stream",
     "text": [
      "Train on 54000 samples, validate on 6000 samples\n",
      "Epoch 1/50\n",
      "54000/54000 [==============================] - 2s - loss: 2.2404 - acc: 0.3573 - val_loss: 2.1345 - val_acc: 0.5267\n",
      "Epoch 2/50\n",
      "54000/54000 [==============================] - 2s - loss: 1.9136 - acc: 0.5499 - val_loss: 1.6131 - val_acc: 0.6095\n",
      "Epoch 3/50\n",
      "54000/54000 [==============================] - 2s - loss: 1.3848 - acc: 0.6261 - val_loss: 1.1436 - val_acc: 0.7003\n",
      "Epoch 4/50\n",
      "54000/54000 [==============================] - 2s - loss: 1.0399 - acc: 0.7229 - val_loss: 0.8753 - val_acc: 0.7830\n",
      "Epoch 5/50\n",
      "54000/54000 [==============================] - 2s - loss: 0.8278 - acc: 0.7971 - val_loss: 0.7049 - val_acc: 0.8573\n",
      "Epoch 6/50\n",
      "54000/54000 [==============================] - 2s - loss: 0.6836 - acc: 0.8411 - val_loss: 0.5733 - val_acc: 0.8808\n",
      "Epoch 7/50\n",
      "54000/54000 [==============================] - 2s - loss: 0.5843 - acc: 0.8607 - val_loss: 0.4911 - val_acc: 0.8920\n",
      "Epoch 8/50\n",
      "54000/54000 [==============================] - 3s - loss: 0.5227 - acc: 0.8708 - val_loss: 0.4404 - val_acc: 0.9000\n",
      "Epoch 9/50\n",
      "54000/54000 [==============================] - 2s - loss: 0.4714 - acc: 0.8812 - val_loss: 0.4013 - val_acc: 0.9095\n",
      "Epoch 10/50\n",
      "54000/54000 [==============================] - 2s - loss: 0.4428 - acc: 0.8854 - val_loss: 0.3743 - val_acc: 0.9087\n",
      "Epoch 11/50\n",
      "54000/54000 [==============================] - 2s - loss: 0.4149 - acc: 0.8905 - val_loss: 0.3580 - val_acc: 0.9105\n",
      "Epoch 12/50\n",
      "54000/54000 [==============================] - 2s - loss: 0.3967 - acc: 0.8928 - val_loss: 0.3465 - val_acc: 0.9113\n",
      "Epoch 13/50\n",
      "54000/54000 [==============================] - 2s - loss: 0.3861 - acc: 0.8941 - val_loss: 0.3360 - val_acc: 0.9117\n",
      "Epoch 14/50\n",
      "54000/54000 [==============================] - 2s - loss: 0.3685 - acc: 0.8997 - val_loss: 0.3020 - val_acc: 0.9218\n",
      "Epoch 15/50\n",
      "54000/54000 [==============================] - 2s - loss: 0.3536 - acc: 0.9029 - val_loss: 0.3100 - val_acc: 0.9160\n",
      "Epoch 16/50\n",
      "54000/54000 [==============================] - 2s - loss: 0.3446 - acc: 0.9044 - val_loss: 0.3027 - val_acc: 0.9195\n",
      "Epoch 17/50\n",
      "54000/54000 [==============================] - 2s - loss: 0.3367 - acc: 0.9066 - val_loss: 0.2873 - val_acc: 0.9260\n",
      "Epoch 18/50\n",
      "54000/54000 [==============================] - 2s - loss: 0.3247 - acc: 0.9087 - val_loss: 0.2729 - val_acc: 0.9260\n",
      "Epoch 19/50\n",
      "54000/54000 [==============================] - 2s - loss: 0.3192 - acc: 0.9103 - val_loss: 0.2809 - val_acc: 0.9240\n",
      "Epoch 20/50\n",
      "54000/54000 [==============================] - 2s - loss: 0.3113 - acc: 0.9122 - val_loss: 0.2647 - val_acc: 0.9282\n",
      "Epoch 21/50\n",
      "54000/54000 [==============================] - 2s - loss: 0.3008 - acc: 0.9152 - val_loss: 0.2504 - val_acc: 0.9330\n",
      "Epoch 22/50\n",
      "54000/54000 [==============================] - 2s - loss: 0.2950 - acc: 0.9148 - val_loss: 0.2591 - val_acc: 0.9288\n",
      "Epoch 23/50\n",
      "54000/54000 [==============================] - 2s - loss: 0.2902 - acc: 0.9180 - val_loss: 0.2378 - val_acc: 0.9357\n",
      "Epoch 24/50\n",
      "54000/54000 [==============================] - 2s - loss: 0.2853 - acc: 0.9195 - val_loss: 0.2464 - val_acc: 0.9280\n",
      "Epoch 25/50\n",
      "54000/54000 [==============================] - 2s - loss: 0.2855 - acc: 0.9183 - val_loss: 0.2389 - val_acc: 0.9333\n",
      "Epoch 26/50\n",
      "54000/54000 [==============================] - 2s - loss: 0.2823 - acc: 0.9194 - val_loss: 0.2369 - val_acc: 0.9348\n",
      "Epoch 27/50\n",
      "54000/54000 [==============================] - 2s - loss: 0.2719 - acc: 0.9233 - val_loss: 0.2385 - val_acc: 0.9332\n",
      "Epoch 28/50\n",
      "54000/54000 [==============================] - 2s - loss: 0.2734 - acc: 0.9215 - val_loss: 0.2309 - val_acc: 0.9337\n",
      "Epoch 29/50\n",
      "54000/54000 [==============================] - 2s - loss: 0.2588 - acc: 0.9264 - val_loss: 0.2274 - val_acc: 0.9345\n",
      "Epoch 30/50\n",
      "54000/54000 [==============================] - 1s - loss: 0.2575 - acc: 0.9273 - val_loss: 0.2250 - val_acc: 0.9367\n",
      "Epoch 31/50\n",
      "54000/54000 [==============================] - 2s - loss: 0.2602 - acc: 0.9254 - val_loss: 0.2172 - val_acc: 0.9393\n",
      "Epoch 32/50\n",
      "54000/54000 [==============================] - 1s - loss: 0.2516 - acc: 0.9276 - val_loss: 0.2266 - val_acc: 0.9383\n",
      "Epoch 33/50\n",
      "54000/54000 [==============================] - 1s - loss: 0.2507 - acc: 0.9267 - val_loss: 0.2133 - val_acc: 0.9383\n",
      "Epoch 34/50\n",
      "54000/54000 [==============================] - 2s - loss: 0.2447 - acc: 0.9285 - val_loss: 0.2100 - val_acc: 0.9402\n",
      "Epoch 35/50\n",
      "54000/54000 [==============================] - 2s - loss: 0.2413 - acc: 0.9305 - val_loss: 0.2084 - val_acc: 0.9417\n",
      "Epoch 36/50\n",
      "54000/54000 [==============================] - 2s - loss: 0.2376 - acc: 0.9306 - val_loss: 0.2163 - val_acc: 0.9387\n",
      "Epoch 37/50\n",
      "54000/54000 [==============================] - 2s - loss: 0.2362 - acc: 0.9322 - val_loss: 0.2065 - val_acc: 0.9425\n",
      "Epoch 38/50\n",
      "54000/54000 [==============================] - 2s - loss: 0.2347 - acc: 0.9317 - val_loss: 0.2003 - val_acc: 0.9468\n",
      "Epoch 39/50\n",
      "54000/54000 [==============================] - 1s - loss: 0.2324 - acc: 0.9325 - val_loss: 0.1913 - val_acc: 0.9472\n",
      "Epoch 40/50\n",
      "54000/54000 [==============================] - 1s - loss: 0.2265 - acc: 0.9350 - val_loss: 0.1992 - val_acc: 0.9448\n",
      "Epoch 41/50\n",
      "54000/54000 [==============================] - 1s - loss: 0.2259 - acc: 0.9345 - val_loss: 0.2018 - val_acc: 0.9453\n",
      "Epoch 42/50\n",
      "54000/54000 [==============================] - 1s - loss: 0.2281 - acc: 0.9332 - val_loss: 0.1942 - val_acc: 0.9448\n",
      "Epoch 43/50\n",
      "54000/54000 [==============================] - 2s - loss: 0.2193 - acc: 0.9360 - val_loss: 0.1883 - val_acc: 0.9505\n",
      "Epoch 44/50\n",
      "54000/54000 [==============================] - 1s - loss: 0.2164 - acc: 0.9371 - val_loss: 0.1881 - val_acc: 0.9478\n",
      "Epoch 45/50\n",
      "54000/54000 [==============================] - 1s - loss: 0.2182 - acc: 0.9374 - val_loss: 0.1877 - val_acc: 0.9488\n",
      "Epoch 46/50\n",
      "54000/54000 [==============================] - 1s - loss: 0.2157 - acc: 0.9369 - val_loss: 0.1860 - val_acc: 0.9480\n",
      "Epoch 47/50\n",
      "54000/54000 [==============================] - 1s - loss: 0.2161 - acc: 0.9374 - val_loss: 0.1861 - val_acc: 0.9468\n",
      "Epoch 48/50\n",
      "54000/54000 [==============================] - 1s - loss: 0.2095 - acc: 0.9393 - val_loss: 0.1834 - val_acc: 0.9497\n",
      "Epoch 49/50\n",
      "54000/54000 [==============================] - 2s - loss: 0.2096 - acc: 0.9389 - val_loss: 0.1923 - val_acc: 0.9443\n",
      "Epoch 50/50\n",
      "54000/54000 [==============================] - 1s - loss: 0.2147 - acc: 0.9375 - val_loss: 0.1921 - val_acc: 0.9455\n"
     ]
    },
    {
     "data": {
      "text/plain": [
       "<keras.callbacks.History at 0x1306048d0>"
      ]
     },
     "execution_count": 86,
     "metadata": {},
     "output_type": "execute_result"
    }
   ],
   "source": [
    "from keras.models import Sequential\n",
    "from keras.layers.core import Dense\n",
    "from keras.optimizers import SGD #確率的勾配降下法\n",
    "\n",
    "np.random.seed(1)\n",
    "\n",
    "model = Sequential() #モデルを初期化\n",
    "#１つ目の隠れ層を追加\n",
    "model.add(Dense(input_dim=X_train.shape[1], #入力ユニット数\n",
    "               output_dim=50, #出力ユニット数\n",
    "               init='uniform', #重みを一様乱数で初期化\n",
    "               activation='tanh')) #活性化関数(双曲線正接関数)\n",
    "\n",
    "#2つ目の隠れ層を追加\n",
    "model.add(Dense(input_dim=50, #入力ユニット数\n",
    "               output_dim=50, #出力ユニット数\n",
    "               init='uniform', #重みを一様乱数で初期化\n",
    "               activation='tanh')) #活性化関数(双曲線正接関数)\n",
    "\n",
    "#出力層を追加\n",
    "model.add(Dense(input_dim=50, #入力ユニット数\n",
    "               output_dim=y_train_ohe.shape[1], #出力ユニット数\n",
    "               init='uniform', #重みを一様乱数で初期化\n",
    "               activation='softmax')) \n",
    "\n",
    "#モデルコンパイル時のオプティマイザを設定\n",
    "#引数に学習率、荷重減衰定数、モーメンタム学習を設定\n",
    "sgd = SGD(lr=0.001, decay=1e-7, momentum=.9)\n",
    "#モデルをコンパイル\n",
    "model.compile(loss='categorical_crossentropy', #catagorical_crossentropyはロジスティック関数のコスト関数を表す\n",
    "             optimizer='sgd', #オプティマイザ\n",
    "             metrics=['accuracy']) #モデルの評価指標\n",
    "\n",
    "\n",
    "model.fit(X_train,\n",
    "         y_train_ohe,\n",
    "         nb_epoch=50,#エポック数\n",
    "         batch_size=300,\n",
    "         verbose=1,#実行時にメッセージを出力\n",
    "         validation_split=0.1) #検証用データの割合"
   ]
  },
  {
   "cell_type": "code",
   "execution_count": 87,
   "metadata": {
    "collapsed": false,
    "scrolled": true
   },
   "outputs": [
    {
     "name": "stdout",
     "output_type": "stream",
     "text": [
      "59936/60000 [============================>.] - ETA: 0sFirst 3 prediction:  [5 0 4]\n"
     ]
    }
   ],
   "source": [
    "y_train_pred = model.predict_classes(X_train,verbose=1)\n",
    "print('First 3 prediction: ', y_train_pred[:3])"
   ]
  },
  {
   "cell_type": "code",
   "execution_count": 88,
   "metadata": {
    "collapsed": false
   },
   "outputs": [
    {
     "name": "stdout",
     "output_type": "stream",
     "text": [
      "Training accuracy: 93.79%\n"
     ]
    }
   ],
   "source": [
    "from sklearn.metrics import accuracy_score\n",
    "acc = accuracy_score(y_true=y_train, y_pred=y_train_pred)\n",
    "print('Training accuracy: %.2f%%' % (acc*100))"
   ]
  },
  {
   "cell_type": "code",
   "execution_count": 90,
   "metadata": {
    "collapsed": false
   },
   "outputs": [
    {
     "name": "stdout",
     "output_type": "stream",
     "text": [
      " 9920/10000 [============================>.] - ETA: 0s\n",
      "Training accuracy: 93.20%\n"
     ]
    }
   ],
   "source": [
    "y_test_pred = model.predict_classes(X_test,verbose=1)\n",
    "test_acc = accuracy_score(y_true=y_test, y_pred=y_test_pred)\n",
    "print('\\nTraining accuracy: %.2f%%' % (test_acc*100))"
   ]
  },
  {
   "cell_type": "code",
   "execution_count": null,
   "metadata": {
    "collapsed": true
   },
   "outputs": [],
   "source": []
  }
 ],
 "metadata": {
  "kernelspec": {
   "display_name": "Python 3",
   "language": "python",
   "name": "python3"
  },
  "language_info": {
   "codemirror_mode": {
    "name": "ipython",
    "version": 3
   },
   "file_extension": ".py",
   "mimetype": "text/x-python",
   "name": "python",
   "nbconvert_exporter": "python",
   "pygments_lexer": "ipython3",
   "version": "3.5.1"
  }
 },
 "nbformat": 4,
 "nbformat_minor": 0
}
