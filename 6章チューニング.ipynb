{
 "cells": [
  {
   "cell_type": "code",
   "execution_count": 1,
   "metadata": {
    "collapsed": true
   },
   "outputs": [],
   "source": [
    "%matplotlib inline\n",
    "\n",
    "from sklearn import datasets\n",
    "import numpy as np\n",
    "import pandas as pd\n",
    "import matplotlib.pyplot as plt\n",
    "\n",
    "#関数の引数を調べる\n",
    "import inspect\n",
    "#inspect.signature(f)"
   ]
  },
  {
   "cell_type": "code",
   "execution_count": 2,
   "metadata": {
    "collapsed": false
   },
   "outputs": [
    {
     "data": {
      "text/plain": [
       "(569, 32)"
      ]
     },
     "execution_count": 2,
     "metadata": {},
     "output_type": "execute_result"
    }
   ],
   "source": [
    "df = pd.read_csv('https://archive.ics.uci.edu/ml/machine-learning-databases'\n",
    "                 '/breast-cancer-wisconsin/wdbc.data', header=None)\n",
    "df.shape"
   ]
  },
  {
   "cell_type": "code",
   "execution_count": 3,
   "metadata": {
    "collapsed": false
   },
   "outputs": [
    {
     "data": {
      "text/html": [
       "<div>\n",
       "<table border=\"1\" class=\"dataframe\">\n",
       "  <thead>\n",
       "    <tr style=\"text-align: right;\">\n",
       "      <th></th>\n",
       "      <th>0</th>\n",
       "      <th>1</th>\n",
       "      <th>2</th>\n",
       "      <th>3</th>\n",
       "      <th>4</th>\n",
       "      <th>5</th>\n",
       "      <th>6</th>\n",
       "      <th>7</th>\n",
       "      <th>8</th>\n",
       "      <th>9</th>\n",
       "      <th>...</th>\n",
       "      <th>22</th>\n",
       "      <th>23</th>\n",
       "      <th>24</th>\n",
       "      <th>25</th>\n",
       "      <th>26</th>\n",
       "      <th>27</th>\n",
       "      <th>28</th>\n",
       "      <th>29</th>\n",
       "      <th>30</th>\n",
       "      <th>31</th>\n",
       "    </tr>\n",
       "  </thead>\n",
       "  <tbody>\n",
       "    <tr>\n",
       "      <th>0</th>\n",
       "      <td>842302</td>\n",
       "      <td>M</td>\n",
       "      <td>17.99</td>\n",
       "      <td>10.38</td>\n",
       "      <td>122.80</td>\n",
       "      <td>1001.0</td>\n",
       "      <td>0.11840</td>\n",
       "      <td>0.27760</td>\n",
       "      <td>0.3001</td>\n",
       "      <td>0.14710</td>\n",
       "      <td>...</td>\n",
       "      <td>25.38</td>\n",
       "      <td>17.33</td>\n",
       "      <td>184.60</td>\n",
       "      <td>2019.0</td>\n",
       "      <td>0.1622</td>\n",
       "      <td>0.6656</td>\n",
       "      <td>0.7119</td>\n",
       "      <td>0.2654</td>\n",
       "      <td>0.4601</td>\n",
       "      <td>0.11890</td>\n",
       "    </tr>\n",
       "    <tr>\n",
       "      <th>1</th>\n",
       "      <td>842517</td>\n",
       "      <td>M</td>\n",
       "      <td>20.57</td>\n",
       "      <td>17.77</td>\n",
       "      <td>132.90</td>\n",
       "      <td>1326.0</td>\n",
       "      <td>0.08474</td>\n",
       "      <td>0.07864</td>\n",
       "      <td>0.0869</td>\n",
       "      <td>0.07017</td>\n",
       "      <td>...</td>\n",
       "      <td>24.99</td>\n",
       "      <td>23.41</td>\n",
       "      <td>158.80</td>\n",
       "      <td>1956.0</td>\n",
       "      <td>0.1238</td>\n",
       "      <td>0.1866</td>\n",
       "      <td>0.2416</td>\n",
       "      <td>0.1860</td>\n",
       "      <td>0.2750</td>\n",
       "      <td>0.08902</td>\n",
       "    </tr>\n",
       "    <tr>\n",
       "      <th>2</th>\n",
       "      <td>84300903</td>\n",
       "      <td>M</td>\n",
       "      <td>19.69</td>\n",
       "      <td>21.25</td>\n",
       "      <td>130.00</td>\n",
       "      <td>1203.0</td>\n",
       "      <td>0.10960</td>\n",
       "      <td>0.15990</td>\n",
       "      <td>0.1974</td>\n",
       "      <td>0.12790</td>\n",
       "      <td>...</td>\n",
       "      <td>23.57</td>\n",
       "      <td>25.53</td>\n",
       "      <td>152.50</td>\n",
       "      <td>1709.0</td>\n",
       "      <td>0.1444</td>\n",
       "      <td>0.4245</td>\n",
       "      <td>0.4504</td>\n",
       "      <td>0.2430</td>\n",
       "      <td>0.3613</td>\n",
       "      <td>0.08758</td>\n",
       "    </tr>\n",
       "    <tr>\n",
       "      <th>3</th>\n",
       "      <td>84348301</td>\n",
       "      <td>M</td>\n",
       "      <td>11.42</td>\n",
       "      <td>20.38</td>\n",
       "      <td>77.58</td>\n",
       "      <td>386.1</td>\n",
       "      <td>0.14250</td>\n",
       "      <td>0.28390</td>\n",
       "      <td>0.2414</td>\n",
       "      <td>0.10520</td>\n",
       "      <td>...</td>\n",
       "      <td>14.91</td>\n",
       "      <td>26.50</td>\n",
       "      <td>98.87</td>\n",
       "      <td>567.7</td>\n",
       "      <td>0.2098</td>\n",
       "      <td>0.8663</td>\n",
       "      <td>0.6869</td>\n",
       "      <td>0.2575</td>\n",
       "      <td>0.6638</td>\n",
       "      <td>0.17300</td>\n",
       "    </tr>\n",
       "    <tr>\n",
       "      <th>4</th>\n",
       "      <td>84358402</td>\n",
       "      <td>M</td>\n",
       "      <td>20.29</td>\n",
       "      <td>14.34</td>\n",
       "      <td>135.10</td>\n",
       "      <td>1297.0</td>\n",
       "      <td>0.10030</td>\n",
       "      <td>0.13280</td>\n",
       "      <td>0.1980</td>\n",
       "      <td>0.10430</td>\n",
       "      <td>...</td>\n",
       "      <td>22.54</td>\n",
       "      <td>16.67</td>\n",
       "      <td>152.20</td>\n",
       "      <td>1575.0</td>\n",
       "      <td>0.1374</td>\n",
       "      <td>0.2050</td>\n",
       "      <td>0.4000</td>\n",
       "      <td>0.1625</td>\n",
       "      <td>0.2364</td>\n",
       "      <td>0.07678</td>\n",
       "    </tr>\n",
       "  </tbody>\n",
       "</table>\n",
       "<p>5 rows × 32 columns</p>\n",
       "</div>"
      ],
      "text/plain": [
       "         0  1      2      3       4       5        6        7       8   \\\n",
       "0    842302  M  17.99  10.38  122.80  1001.0  0.11840  0.27760  0.3001   \n",
       "1    842517  M  20.57  17.77  132.90  1326.0  0.08474  0.07864  0.0869   \n",
       "2  84300903  M  19.69  21.25  130.00  1203.0  0.10960  0.15990  0.1974   \n",
       "3  84348301  M  11.42  20.38   77.58   386.1  0.14250  0.28390  0.2414   \n",
       "4  84358402  M  20.29  14.34  135.10  1297.0  0.10030  0.13280  0.1980   \n",
       "\n",
       "        9    ...        22     23      24      25      26      27      28  \\\n",
       "0  0.14710   ...     25.38  17.33  184.60  2019.0  0.1622  0.6656  0.7119   \n",
       "1  0.07017   ...     24.99  23.41  158.80  1956.0  0.1238  0.1866  0.2416   \n",
       "2  0.12790   ...     23.57  25.53  152.50  1709.0  0.1444  0.4245  0.4504   \n",
       "3  0.10520   ...     14.91  26.50   98.87   567.7  0.2098  0.8663  0.6869   \n",
       "4  0.10430   ...     22.54  16.67  152.20  1575.0  0.1374  0.2050  0.4000   \n",
       "\n",
       "       29      30       31  \n",
       "0  0.2654  0.4601  0.11890  \n",
       "1  0.1860  0.2750  0.08902  \n",
       "2  0.2430  0.3613  0.08758  \n",
       "3  0.2575  0.6638  0.17300  \n",
       "4  0.1625  0.2364  0.07678  \n",
       "\n",
       "[5 rows x 32 columns]"
      ]
     },
     "execution_count": 3,
     "metadata": {},
     "output_type": "execute_result"
    }
   ],
   "source": [
    "df.head()"
   ]
  },
  {
   "cell_type": "code",
   "execution_count": 3,
   "metadata": {
    "collapsed": true
   },
   "outputs": [],
   "source": [
    "from sklearn.preprocessing import LabelEncoder\n",
    "X = df.iloc[:, 2:].values\n",
    "y = df.iloc[:, 1].values\n",
    "le = LabelEncoder()\n",
    "y = le.fit_transform(y)"
   ]
  },
  {
   "cell_type": "code",
   "execution_count": 5,
   "metadata": {
    "collapsed": false
   },
   "outputs": [
    {
     "data": {
      "text/plain": [
       "array(['B', 'M'], dtype=object)"
      ]
     },
     "execution_count": 5,
     "metadata": {},
     "output_type": "execute_result"
    }
   ],
   "source": [
    "#これで何が0,1,.....に当てられたかわかる\n",
    "le.classes_"
   ]
  },
  {
   "cell_type": "code",
   "execution_count": 4,
   "metadata": {
    "collapsed": true
   },
   "outputs": [],
   "source": [
    "from sklearn.cross_validation import train_test_split\n",
    "X_train, X_test, y_train, y_test = train_test_split(X,y,test_size=0.20,random_state=1)"
   ]
  },
  {
   "cell_type": "code",
   "execution_count": 5,
   "metadata": {
    "collapsed": false
   },
   "outputs": [
    {
     "name": "stdout",
     "output_type": "stream",
     "text": [
      "Test accuracy: 0.947\n"
     ]
    }
   ],
   "source": [
    "from sklearn.preprocessing import StandardScaler\n",
    "from sklearn.decomposition import PCA\n",
    "from sklearn.linear_model import LogisticRegression\n",
    "from sklearn.pipeline import Pipeline\n",
    "\n",
    "#連結する処理としてスケーリング、主成分分析、ロジスティック回帰を指定\n",
    "pipe_lr = Pipeline([('scl',StandardScaler()),('pca',PCA(n_components=2)),('clf',LogisticRegression(random_state=1))])\n",
    "pipe_lr.fit(X_train, y_train)\n",
    "\n",
    "print('Test accuracy: %.3f' % pipe_lr.score(X_test,y_test))"
   ]
  },
  {
   "cell_type": "code",
   "execution_count": 8,
   "metadata": {
    "collapsed": false
   },
   "outputs": [
    {
     "data": {
      "text/plain": [
       "(4, 4)"
      ]
     },
     "execution_count": 8,
     "metadata": {},
     "output_type": "execute_result"
    }
   ],
   "source": [
    "a = np.random.rand(16).reshape(4,4)\n",
    "a.shape"
   ]
  },
  {
   "cell_type": "code",
   "execution_count": 9,
   "metadata": {
    "collapsed": false
   },
   "outputs": [
    {
     "data": {
      "text/plain": [
       "array([[ 0.61398972,  0.7717892 ,  0.90283387,  0.51471847],\n",
       "       [ 0.57437482,  0.40558384,  0.71343584,  0.57512343],\n",
       "       [ 0.93263525,  0.37242386,  0.88072121,  0.23808158],\n",
       "       [ 0.53198592,  0.322787  ,  0.14258575,  0.33047072]])"
      ]
     },
     "execution_count": 9,
     "metadata": {},
     "output_type": "execute_result"
    }
   ],
   "source": [
    "a"
   ]
  },
  {
   "cell_type": "code",
   "execution_count": 10,
   "metadata": {
    "collapsed": false
   },
   "outputs": [
    {
     "data": {
      "text/plain": [
       "array([ -3.60822483e-16,  -5.55111512e-17,   3.88578059e-16,\n",
       "         2.22044605e-16])"
      ]
     },
     "execution_count": 10,
     "metadata": {},
     "output_type": "execute_result"
    }
   ],
   "source": [
    "sc = StandardScaler()\n",
    "(sc.fit_transform(a)).mean(axis=0)"
   ]
  },
  {
   "cell_type": "markdown",
   "metadata": {},
   "source": [
    "k分割交差検証"
   ]
  },
  {
   "cell_type": "code",
   "execution_count": 11,
   "metadata": {
    "collapsed": false
   },
   "outputs": [
    {
     "name": "stdout",
     "output_type": "stream",
     "text": [
      "Fold: 1, Class dist. [256 153], Acc: 0.891\n",
      "Fold: 2, Class dist. [256 153], Acc: 0.978\n",
      "Fold: 3, Class dist. [256 153], Acc: 0.978\n",
      "Fold: 4, Class dist. [256 153], Acc: 0.913\n",
      "Fold: 5, Class dist. [256 153], Acc: 0.935\n",
      "Fold: 6, Class dist. [257 153], Acc: 0.978\n",
      "Fold: 7, Class dist. [257 153], Acc: 0.933\n",
      "Fold: 8, Class dist. [257 153], Acc: 0.956\n",
      "Fold: 9, Class dist. [257 153], Acc: 0.978\n",
      "Fold: 10, Class dist. [257 153], Acc: 0.956\n"
     ]
    }
   ],
   "source": [
    "from sklearn.cross_validation import StratifiedKFold\n",
    "#分割元データ、分割数、乱数生成機の状態を指定し、層化k分割交差検証イテレータを表すStratifiedKFoldクラスのインスタンス化\n",
    "kfold = StratifiedKFold(y= y_train, n_folds=10, random_state=1)\n",
    "scores=[]\n",
    "#イテレータのインデックスと要素をループ\n",
    "#kには分割された番号が、train testにはそれぞれのインデックスが入っている\n",
    "for k, (train, test) in enumerate(kfold):\n",
    "    pipe_lr.fit(X_train[train],y_train[train])\n",
    "    score = pipe_lr.score(X_train[test],y_train[test])\n",
    "    scores.append(score)\n",
    "    print('Fold: %s, Class dist. %s, Acc: %.3f' % (k+1, np.bincount(y_train[train]), score))"
   ]
  },
  {
   "cell_type": "code",
   "execution_count": 12,
   "metadata": {
    "collapsed": false
   },
   "outputs": [
    {
     "name": "stdout",
     "output_type": "stream",
     "text": [
      "CV accuracy: 0.950 +/- 0.029\n"
     ]
    }
   ],
   "source": [
    "#正解率の平均と標準偏差を出力\n",
    "print('CV accuracy: %.3f +/- %.3f' % (np.mean(scores), np.std(scores)))"
   ]
  },
  {
   "cell_type": "markdown",
   "metadata": {},
   "source": [
    "cross_val_score　めっちゃ便利"
   ]
  },
  {
   "cell_type": "code",
   "execution_count": 13,
   "metadata": {
    "collapsed": false
   },
   "outputs": [
    {
     "name": "stdout",
     "output_type": "stream",
     "text": [
      "CV accuracy scores: [ 0.89130435  0.97826087  0.97826087  0.91304348  0.93478261  0.97777778\n",
      "  0.93333333  0.95555556  0.97777778  0.95555556]\n",
      "CV accuracy: 0.950 +/- 0.029\n"
     ]
    }
   ],
   "source": [
    "from sklearn.cross_validation import cross_val_score\n",
    "#cross_val_score関数でモデルの正解率を算出\n",
    "#推定器estimator、トレーニングデータX、予測値y、分割数cv、CPU数n_jobsを指定\n",
    "scores = cross_val_score(estimator=pipe_lr, X=X_train,y=y_train, cv=10, n_jobs=1)\n",
    "print('CV accuracy scores: %s' % scores)\n",
    "#正解率の平均と標準偏差を出力\n",
    "print('CV accuracy: %.3f +/- %.3f' % (np.mean(scores), np.std(scores)))"
   ]
  },
  {
   "cell_type": "markdown",
   "metadata": {},
   "source": [
    "学習曲線関数"
   ]
  },
  {
   "cell_type": "code",
   "execution_count": 10,
   "metadata": {
    "collapsed": false
   },
   "outputs": [
    {
     "data": {
      "image/png": "[encoded data removed]",
      "text/plain": [
       "<matplotlib.figure.Figure at 0x11b1b1978>"
      ]
     },
     "metadata": {},
     "output_type": "display_data"
    }
   ],
   "source": [
    "import matplotlib.pyplot as plt\n",
    "from sklearn.learning_curve import learning_curve\n",
    "pipe_lr = Pipeline([('scl',StandardScaler()),('clf',LogisticRegression(penalty='l2',random_state=0))])\n",
    "\n",
    "#learnig_curve関数で交差検証による正解率を算出\n",
    "train_sizes, train_scores, test_scores = learning_curve(estimator=pipe_lr,X=X_train, y=y_train,\n",
    "                                                                                                  train_sizes=np.linspace(0.1,1.0,5),cv=5,n_jobs=1)\n",
    "train_mean= np.mean(train_scores, axis=1)\n",
    "train_std = np.std(train_scores, axis=1)\n",
    "test_mean= np.mean(test_scores, axis=1)\n",
    "test_std = np.std(test_scores, axis=1)\n",
    "\n",
    "plt.plot(train_sizes,train_mean, color='blue', marker='o',markersize=5, label='training acuuracy')\n",
    "#fill_between関数で平均±標準偏差の幅を塗りつぶす\n",
    "#トレーニングデータのサイズtrain_sizes、透明度alpha、などを指定\n",
    "plt.fill_between(train_sizes, train_mean+train_std, train_mean-train_std, alpha=0.15, color='blue')\n",
    "\n",
    "plt.plot(train_sizes,test_mean, color='green', linestyle='--', marker='s',markersize=5, label='validation acuuracy')\n",
    "plt.fill_between(train_sizes, test_mean+test_std, test_mean-test_std, alpha=0.15, color='green')\n",
    "\n",
    "plt.grid()\n",
    "plt.xlabel('Number of training samples')\n",
    "plt.ylabel('Accuracy')\n",
    "plt.legend(loc='lower right')\n",
    "plt.ylim([0.8,1.0])\n",
    "plt.show()"
   ]
  },
  {
   "cell_type": "code",
   "execution_count": 15,
   "metadata": {
    "collapsed": false
   },
   "outputs": [
    {
     "data": {
      "text/plain": [
       "array([ 0.1,  0.2,  0.3,  0.4,  0.5,  0.6,  0.7,  0.8,  0.9,  1. ])"
      ]
     },
     "execution_count": 15,
     "metadata": {},
     "output_type": "execute_result"
    }
   ],
   "source": [
    "np.linspace(0.1,1.0,10)"
   ]
  },
  {
   "cell_type": "code",
   "execution_count": 16,
   "metadata": {
    "collapsed": false
   },
   "outputs": [
    {
     "data": {
      "text/plain": [
       "array([ 0.99183673,  0.9877551 ,  0.99183673,  0.99183673,  0.99183673,\n",
       "        0.99183673,  0.99183673,  0.99183673,  0.99183673,  0.99183673])"
      ]
     },
     "execution_count": 16,
     "metadata": {},
     "output_type": "execute_result"
    }
   ],
   "source": [
    "train_scores[5]"
   ]
  },
  {
   "cell_type": "code",
   "execution_count": 11,
   "metadata": {
    "collapsed": false
   },
   "outputs": [
    {
     "data": {
      "text/plain": [
       "(5, 5)"
      ]
     },
     "execution_count": 11,
     "metadata": {},
     "output_type": "execute_result"
    }
   ],
   "source": [
    "train_scores.shape"
   ]
  },
  {
   "cell_type": "code",
   "execution_count": 17,
   "metadata": {
    "collapsed": false
   },
   "outputs": [
    {
     "data": {
      "text/plain": [
       "array([ 40,  81, 122, 163, 204, 245, 286, 327, 368, 409])"
      ]
     },
     "execution_count": 17,
     "metadata": {},
     "output_type": "execute_result"
    }
   ],
   "source": [
    "train_sizes"
   ]
  },
  {
   "cell_type": "markdown",
   "metadata": {},
   "source": [
    "検証曲線"
   ]
  },
  {
   "cell_type": "code",
   "execution_count": 18,
   "metadata": {
    "collapsed": false
   },
   "outputs": [
    {
     "data": {
      "image/png": "[encoded data removed]",
      "text/plain": [
       "<matplotlib.figure.Figure at 0x11b0b0d30>"
      ]
     },
     "metadata": {},
     "output_type": "display_data"
    }
   ],
   "source": [
    "from sklearn.learning_curve import validation_curve\n",
    "param_range = [0.001,0.01,0.1,1.0,10.0,100.0]\n",
    "#validation_curve関数によりモデルのパラメータを変化させ、交差検証による正解率を算出\n",
    "#clf_CはLogisticRegressionオブジェクトのパラメータ\n",
    "train_scores, test_scores = validation_curve(estimator=pipe_lr, X=X_train, y=y_train, param_name='clf__C',\n",
    "                                                                                param_range=param_range,cv=10)\n",
    "train_mean = np.mean(train_scores,axis=1)\n",
    "train_std = np.std(train_scores, axis=1)\n",
    "test_mean= np.mean(test_scores, axis=1)\n",
    "test_std = np.std(test_scores, axis=1)\n",
    "\n",
    "plt.plot(param_range,train_mean, color='blue', marker='o',markersize=5, label='training acuuracy')\n",
    "#fill_between関数で平均±標準偏差の幅を塗りつぶす\n",
    "#トレーニングデータのサイズtrain_sizes、透明度alpha、などを指定\n",
    "plt.fill_between(param_range, train_mean+train_std, train_mean-train_std, alpha=0.15, color='blue')\n",
    "\n",
    "plt.plot(param_range,test_mean, color='green', linestyle='--', marker='s',markersize=5, label='validation acuuracy')\n",
    "\n",
    "plt.fill_between(param_range, test_mean+test_std, test_mean-test_std, alpha=0.15, color='green')\n",
    "\n",
    "plt.grid()\n",
    "plt.xscale('log')\n",
    "plt.xlabel('Parameter C')\n",
    "plt.ylabel('Accuracy')\n",
    "plt.legend(loc='lower right')\n",
    "plt.ylim([0.8,1.0])\n",
    "plt.show()"
   ]
  },
  {
   "cell_type": "code",
   "execution_count": 19,
   "metadata": {
    "collapsed": false,
    "scrolled": true
   },
   "outputs": [
    {
     "data": {
      "text/plain": [
       "{'C': 1.0,\n",
       " 'class_weight': None,\n",
       " 'dual': False,\n",
       " 'fit_intercept': True,\n",
       " 'intercept_scaling': 1,\n",
       " 'max_iter': 100,\n",
       " 'multi_class': 'ovr',\n",
       " 'n_jobs': 1,\n",
       " 'penalty': 'l2',\n",
       " 'random_state': None,\n",
       " 'solver': 'liblinear',\n",
       " 'tol': 0.0001,\n",
       " 'verbose': 0,\n",
       " 'warm_start': False}"
      ]
     },
     "execution_count": 19,
     "metadata": {},
     "output_type": "execute_result"
    }
   ],
   "source": [
    "LogisticRegression().get_params()"
   ]
  },
  {
   "cell_type": "code",
   "execution_count": 20,
   "metadata": {
    "collapsed": false
   },
   "outputs": [],
   "source": [
    "from distutils.version import LooseVersion as Version\n",
    "from sklearn import __version__ as sklearn_version\n",
    "Version(sklearn_version)"
   ]
  },
  {
   "cell_type": "markdown",
   "metadata": {},
   "source": [
    "グリッドサーチ"
   ]
  },
  {
   "cell_type": "code",
   "execution_count": 22,
   "metadata": {
    "collapsed": false
   },
   "outputs": [
    {
     "data": {
      "text/plain": [
       "{'C': 1.0,\n",
       " 'cache_size': 200,\n",
       " 'class_weight': None,\n",
       " 'coef0': 0.0,\n",
       " 'decision_function_shape': None,\n",
       " 'degree': 3,\n",
       " 'gamma': 'auto',\n",
       " 'kernel': 'rbf',\n",
       " 'max_iter': -1,\n",
       " 'probability': False,\n",
       " 'random_state': None,\n",
       " 'shrinking': True,\n",
       " 'tol': 0.001,\n",
       " 'verbose': False}"
      ]
     },
     "execution_count": 22,
     "metadata": {},
     "output_type": "execute_result"
    }
   ],
   "source": [
    "from sklearn.svm import SVC\n",
    "SVC(kernel='rbf').get_params()"
   ]
  },
  {
   "cell_type": "code",
   "execution_count": 7,
   "metadata": {
    "collapsed": false
   },
   "outputs": [
    {
     "ename": "NameError",
     "evalue": "name 'Pipeline' is not defined",
     "output_type": "error",
     "traceback": [
      "\u001b[0;31m---------------------------------------------------------------------------\u001b[0m",
      "\u001b[0;31mNameError\u001b[0m                                 Traceback (most recent call last)",
      "\u001b[0;32m<ipython-input-7-168a6f537b6d>\u001b[0m in \u001b[0;36m<module>\u001b[0;34m()\u001b[0m\n\u001b[1;32m      1\u001b[0m \u001b[0;32mfrom\u001b[0m \u001b[0msklearn\u001b[0m\u001b[0;34m.\u001b[0m\u001b[0mgrid_search\u001b[0m \u001b[0;32mimport\u001b[0m \u001b[0mGridSearchCV\u001b[0m\u001b[0;34m\u001b[0m\u001b[0m\n\u001b[1;32m      2\u001b[0m \u001b[0;32mfrom\u001b[0m \u001b[0msklearn\u001b[0m\u001b[0;34m.\u001b[0m\u001b[0msvm\u001b[0m \u001b[0;32mimport\u001b[0m \u001b[0mSVC\u001b[0m\u001b[0;34m\u001b[0m\u001b[0m\n\u001b[0;32m----> 3\u001b[0;31m \u001b[0mpipe_svc\u001b[0m  \u001b[0;34m=\u001b[0m \u001b[0mPipeline\u001b[0m\u001b[0;34m(\u001b[0m\u001b[0;34m[\u001b[0m\u001b[0;34m(\u001b[0m\u001b[0;34m'scl'\u001b[0m\u001b[0;34m,\u001b[0m\u001b[0mStandardScaler\u001b[0m\u001b[0;34m(\u001b[0m\u001b[0;34m)\u001b[0m\u001b[0;34m)\u001b[0m\u001b[0;34m,\u001b[0m\u001b[0;34m(\u001b[0m\u001b[0;34m'clf'\u001b[0m\u001b[0;34m,\u001b[0m\u001b[0mSVC\u001b[0m\u001b[0;34m(\u001b[0m\u001b[0mrandom_state\u001b[0m\u001b[0;34m=\u001b[0m\u001b[0;36m1\u001b[0m\u001b[0;34m)\u001b[0m\u001b[0;34m)\u001b[0m\u001b[0;34m]\u001b[0m\u001b[0;34m)\u001b[0m\u001b[0;34m\u001b[0m\u001b[0m\n\u001b[0m\u001b[1;32m      4\u001b[0m \u001b[0mparam_range\u001b[0m \u001b[0;34m=\u001b[0m \u001b[0;34m[\u001b[0m\u001b[0;36m0.0001\u001b[0m\u001b[0;34m,\u001b[0m \u001b[0;36m0.001\u001b[0m\u001b[0;34m,\u001b[0m\u001b[0;36m0.01\u001b[0m\u001b[0;34m,\u001b[0m\u001b[0;36m0.1\u001b[0m\u001b[0;34m,\u001b[0m\u001b[0;36m1.0\u001b[0m\u001b[0;34m,\u001b[0m\u001b[0;36m10.0\u001b[0m\u001b[0;34m,\u001b[0m\u001b[0;36m100.0\u001b[0m\u001b[0;34m,\u001b[0m\u001b[0;36m1000.0\u001b[0m\u001b[0;34m]\u001b[0m\u001b[0;34m\u001b[0m\u001b[0m\n\u001b[1;32m      5\u001b[0m \u001b[0;31m#Cを大きくすると誤分類を許さない   gammaを大きくするとサンプル間の距離が大きく評価され過学習になりやすい\u001b[0m\u001b[0;34m\u001b[0m\u001b[0;34m\u001b[0m\u001b[0m\n",
      "\u001b[0;31mNameError\u001b[0m: name 'Pipeline' is not defined"
     ]
    }
   ],
   "source": [
    "from sklearn.grid_search import GridSearchCV\n",
    "from sklearn.svm import SVC\n",
    "pipe_svc  = Pipeline([('scl',StandardScaler()),('clf',SVC(random_state=1))])\n",
    "param_range = [0.0001, 0.001,0.01,0.1,1.0,10.0,100.0,1000.0]\n",
    "#Cを大きくすると誤分類を許さない   gammaを大きくするとサンプル間の距離が大きく評価され過学習になりやすい\n",
    "#つまりどちらのパラメータも大きくしすぎると過学習\n",
    "param_grid = [{'clf__C': param_range, 'clf__kernel': ['linear']},\n",
    "                          {'clf__C': param_range, 'clf__gamma': param_range, 'clf__kernel': ['rbf']}]\n",
    "#ハイパーパラメータ値のリストparam_gridを指定し、グリッドサーチを行うGridSearchCVクラスのインスタンス化\n",
    "gs = GridSearchCV(estimator=pipe_svc, param_grid=param_grid, scoring='accuracy', cv=10, n_jobs=-1)\n",
    "gs.fit(X_train,y_train)\n",
    "#モデルの最良スコアを出力\n",
    "print(gs.best_score_)\n",
    "#最良スコアとなるパラメータ値を出力\n",
    "print(gs.best_params_)"
   ]
  },
  {
   "cell_type": "code",
   "execution_count": 24,
   "metadata": {
    "collapsed": false
   },
   "outputs": [
    {
     "data": {
      "text/plain": [
       "array([0, 1, 0, 1, 1, 1, 1, 1, 0, 0, 0, 1, 1, 0, 0, 0, 0, 0, 0, 1, 0, 0, 1,\n",
       "       0, 1, 0, 0, 1, 1, 1, 1, 0, 1, 1, 0, 0, 1, 0, 1, 0, 0, 0, 0, 0, 0, 1,\n",
       "       0, 0, 0, 1, 1, 1, 0, 0, 0, 0, 0, 1, 0, 0, 0, 1, 0, 0, 0, 0, 0, 1, 0,\n",
       "       0, 0, 0, 0, 1, 0, 1, 0, 0, 0, 1, 0, 1, 0, 1, 0, 0, 1, 0, 1, 0, 0, 1,\n",
       "       0, 0, 1, 1, 0, 0, 0, 0, 0, 0, 0, 0, 0, 0, 0, 0, 1, 1, 1, 1, 0, 0])"
      ]
     },
     "execution_count": 24,
     "metadata": {},
     "output_type": "execute_result"
    }
   ],
   "source": [
    "#gs.predictとgs.best_estimator_.predictは同じ！\n",
    "gs.predict(X_test)"
   ]
  },
  {
   "cell_type": "code",
   "execution_count": 25,
   "metadata": {
    "collapsed": false
   },
   "outputs": [
    {
     "name": "stdout",
     "output_type": "stream",
     "text": [
      "0.642 (+/-0.000) for {'clf__kernel': 'linear', 'clf__C': 0.0001}\n",
      "0.938 (+/-0.000) for {'clf__kernel': 'linear', 'clf__C': 0.001}\n",
      "0.960 (+/-0.000) for {'clf__kernel': 'linear', 'clf__C': 0.01}\n",
      "0.978 (+/-0.000) for {'clf__kernel': 'linear', 'clf__C': 0.1}\n",
      "0.976 (+/-0.000) for {'clf__kernel': 'linear', 'clf__C': 1.0}\n",
      "0.971 (+/-0.000) for {'clf__kernel': 'linear', 'clf__C': 10.0}\n",
      "0.952 (+/-0.000) for {'clf__kernel': 'linear', 'clf__C': 100.0}\n",
      "0.945 (+/-0.000) for {'clf__kernel': 'linear', 'clf__C': 1000.0}\n",
      "0.626 (+/-0.000) for {'clf__kernel': 'rbf', 'clf__C': 0.0001, 'clf__gamma': 0.0001}\n",
      "0.626 (+/-0.000) for {'clf__kernel': 'rbf', 'clf__C': 0.0001, 'clf__gamma': 0.001}\n",
      "0.626 (+/-0.000) for {'clf__kernel': 'rbf', 'clf__C': 0.0001, 'clf__gamma': 0.01}\n",
      "0.626 (+/-0.000) for {'clf__kernel': 'rbf', 'clf__C': 0.0001, 'clf__gamma': 0.1}\n",
      "0.626 (+/-0.000) for {'clf__kernel': 'rbf', 'clf__C': 0.0001, 'clf__gamma': 1.0}\n",
      "0.626 (+/-0.000) for {'clf__kernel': 'rbf', 'clf__C': 0.0001, 'clf__gamma': 10.0}\n",
      "0.626 (+/-0.000) for {'clf__kernel': 'rbf', 'clf__C': 0.0001, 'clf__gamma': 100.0}\n",
      "0.626 (+/-0.000) for {'clf__kernel': 'rbf', 'clf__C': 0.0001, 'clf__gamma': 1000.0}\n",
      "0.626 (+/-0.000) for {'clf__kernel': 'rbf', 'clf__C': 0.001, 'clf__gamma': 0.0001}\n",
      "0.626 (+/-0.000) for {'clf__kernel': 'rbf', 'clf__C': 0.001, 'clf__gamma': 0.001}\n",
      "0.626 (+/-0.000) for {'clf__kernel': 'rbf', 'clf__C': 0.001, 'clf__gamma': 0.01}\n",
      "0.626 (+/-0.000) for {'clf__kernel': 'rbf', 'clf__C': 0.001, 'clf__gamma': 0.1}\n",
      "0.626 (+/-0.000) for {'clf__kernel': 'rbf', 'clf__C': 0.001, 'clf__gamma': 1.0}\n",
      "0.626 (+/-0.000) for {'clf__kernel': 'rbf', 'clf__C': 0.001, 'clf__gamma': 10.0}\n",
      "0.626 (+/-0.000) for {'clf__kernel': 'rbf', 'clf__C': 0.001, 'clf__gamma': 100.0}\n",
      "0.626 (+/-0.000) for {'clf__kernel': 'rbf', 'clf__C': 0.001, 'clf__gamma': 1000.0}\n",
      "0.626 (+/-0.000) for {'clf__kernel': 'rbf', 'clf__C': 0.01, 'clf__gamma': 0.0001}\n",
      "0.626 (+/-0.000) for {'clf__kernel': 'rbf', 'clf__C': 0.01, 'clf__gamma': 0.001}\n",
      "0.626 (+/-0.000) for {'clf__kernel': 'rbf', 'clf__C': 0.01, 'clf__gamma': 0.01}\n",
      "0.626 (+/-0.000) for {'clf__kernel': 'rbf', 'clf__C': 0.01, 'clf__gamma': 0.1}\n",
      "0.626 (+/-0.000) for {'clf__kernel': 'rbf', 'clf__C': 0.01, 'clf__gamma': 1.0}\n",
      "0.626 (+/-0.000) for {'clf__kernel': 'rbf', 'clf__C': 0.01, 'clf__gamma': 10.0}\n",
      "0.626 (+/-0.000) for {'clf__kernel': 'rbf', 'clf__C': 0.01, 'clf__gamma': 100.0}\n",
      "0.626 (+/-0.000) for {'clf__kernel': 'rbf', 'clf__C': 0.01, 'clf__gamma': 1000.0}\n",
      "0.626 (+/-0.000) for {'clf__kernel': 'rbf', 'clf__C': 0.1, 'clf__gamma': 0.0001}\n",
      "0.774 (+/-0.000) for {'clf__kernel': 'rbf', 'clf__C': 0.1, 'clf__gamma': 0.001}\n",
      "0.947 (+/-0.000) for {'clf__kernel': 'rbf', 'clf__C': 0.1, 'clf__gamma': 0.01}\n",
      "0.938 (+/-0.000) for {'clf__kernel': 'rbf', 'clf__C': 0.1, 'clf__gamma': 0.1}\n",
      "0.626 (+/-0.000) for {'clf__kernel': 'rbf', 'clf__C': 0.1, 'clf__gamma': 1.0}\n",
      "0.626 (+/-0.000) for {'clf__kernel': 'rbf', 'clf__C': 0.1, 'clf__gamma': 10.0}\n",
      "0.626 (+/-0.000) for {'clf__kernel': 'rbf', 'clf__C': 0.1, 'clf__gamma': 100.0}\n",
      "0.626 (+/-0.000) for {'clf__kernel': 'rbf', 'clf__C': 0.1, 'clf__gamma': 1000.0}\n",
      "0.780 (+/-0.000) for {'clf__kernel': 'rbf', 'clf__C': 1.0, 'clf__gamma': 0.0001}\n",
      "0.949 (+/-0.000) for {'clf__kernel': 'rbf', 'clf__C': 1.0, 'clf__gamma': 0.001}\n",
      "0.967 (+/-0.000) for {'clf__kernel': 'rbf', 'clf__C': 1.0, 'clf__gamma': 0.01}\n",
      "0.958 (+/-0.000) for {'clf__kernel': 'rbf', 'clf__C': 1.0, 'clf__gamma': 0.1}\n",
      "0.631 (+/-0.000) for {'clf__kernel': 'rbf', 'clf__C': 1.0, 'clf__gamma': 1.0}\n",
      "0.626 (+/-0.000) for {'clf__kernel': 'rbf', 'clf__C': 1.0, 'clf__gamma': 10.0}\n",
      "0.626 (+/-0.000) for {'clf__kernel': 'rbf', 'clf__C': 1.0, 'clf__gamma': 100.0}\n",
      "0.626 (+/-0.000) for {'clf__kernel': 'rbf', 'clf__C': 1.0, 'clf__gamma': 1000.0}\n",
      "0.949 (+/-0.000) for {'clf__kernel': 'rbf', 'clf__C': 10.0, 'clf__gamma': 0.0001}\n",
      "0.960 (+/-0.000) for {'clf__kernel': 'rbf', 'clf__C': 10.0, 'clf__gamma': 0.001}\n",
      "0.974 (+/-0.000) for {'clf__kernel': 'rbf', 'clf__C': 10.0, 'clf__gamma': 0.01}\n",
      "0.956 (+/-0.000) for {'clf__kernel': 'rbf', 'clf__C': 10.0, 'clf__gamma': 0.1}\n",
      "0.637 (+/-0.000) for {'clf__kernel': 'rbf', 'clf__C': 10.0, 'clf__gamma': 1.0}\n",
      "0.626 (+/-0.000) for {'clf__kernel': 'rbf', 'clf__C': 10.0, 'clf__gamma': 10.0}\n",
      "0.626 (+/-0.000) for {'clf__kernel': 'rbf', 'clf__C': 10.0, 'clf__gamma': 100.0}\n",
      "0.626 (+/-0.000) for {'clf__kernel': 'rbf', 'clf__C': 10.0, 'clf__gamma': 1000.0}\n",
      "0.960 (+/-0.000) for {'clf__kernel': 'rbf', 'clf__C': 100.0, 'clf__gamma': 0.0001}\n",
      "0.976 (+/-0.000) for {'clf__kernel': 'rbf', 'clf__C': 100.0, 'clf__gamma': 0.001}\n",
      "0.969 (+/-0.000) for {'clf__kernel': 'rbf', 'clf__C': 100.0, 'clf__gamma': 0.01}\n",
      "0.956 (+/-0.000) for {'clf__kernel': 'rbf', 'clf__C': 100.0, 'clf__gamma': 0.1}\n",
      "0.637 (+/-0.000) for {'clf__kernel': 'rbf', 'clf__C': 100.0, 'clf__gamma': 1.0}\n",
      "0.626 (+/-0.000) for {'clf__kernel': 'rbf', 'clf__C': 100.0, 'clf__gamma': 10.0}\n",
      "0.626 (+/-0.000) for {'clf__kernel': 'rbf', 'clf__C': 100.0, 'clf__gamma': 100.0}\n",
      "0.626 (+/-0.000) for {'clf__kernel': 'rbf', 'clf__C': 100.0, 'clf__gamma': 1000.0}\n",
      "0.978 (+/-0.000) for {'clf__kernel': 'rbf', 'clf__C': 1000.0, 'clf__gamma': 0.0001}\n",
      "0.976 (+/-0.000) for {'clf__kernel': 'rbf', 'clf__C': 1000.0, 'clf__gamma': 0.001}\n",
      "0.960 (+/-0.000) for {'clf__kernel': 'rbf', 'clf__C': 1000.0, 'clf__gamma': 0.01}\n",
      "0.956 (+/-0.000) for {'clf__kernel': 'rbf', 'clf__C': 1000.0, 'clf__gamma': 0.1}\n",
      "0.637 (+/-0.000) for {'clf__kernel': 'rbf', 'clf__C': 1000.0, 'clf__gamma': 1.0}\n",
      "0.626 (+/-0.000) for {'clf__kernel': 'rbf', 'clf__C': 1000.0, 'clf__gamma': 10.0}\n",
      "0.626 (+/-0.000) for {'clf__kernel': 'rbf', 'clf__C': 1000.0, 'clf__gamma': 100.0}\n",
      "0.626 (+/-0.000) for {'clf__kernel': 'rbf', 'clf__C': 1000.0, 'clf__gamma': 1000.0}\n"
     ]
    }
   ],
   "source": [
    "#他のすべての結果\n",
    "for params, mean_score, scores in gs.grid_scores_:\n",
    "    print(\"%0.3f (+/-%0.3f) for %r\" % (mean_score, score.std(), params))"
   ]
  },
  {
   "cell_type": "code",
   "execution_count": 26,
   "metadata": {
    "collapsed": false
   },
   "outputs": [
    {
     "name": "stdout",
     "output_type": "stream",
     "text": [
      "Test accuracy: 0.965\n"
     ]
    }
   ],
   "source": [
    "#最良のモデルをテストデータセットにかける\n",
    "clf = gs.best_estimator_\n",
    "#まずはトレーニングセット全体でトレーニングを行う\n",
    "clf.fit(X_train,y_train)\n",
    "\n",
    "print('Test accuracy: %.3f' % clf.score(X_test,y_test))"
   ]
  },
  {
   "cell_type": "code",
   "execution_count": 27,
   "metadata": {
    "collapsed": false
   },
   "outputs": [
    {
     "data": {
      "text/plain": [
       "(455, 30)"
      ]
     },
     "execution_count": 27,
     "metadata": {},
     "output_type": "execute_result"
    }
   ],
   "source": [
    "X_train.shape"
   ]
  },
  {
   "cell_type": "markdown",
   "metadata": {},
   "source": [
    "主成分分析も加えてやってみる"
   ]
  },
  {
   "cell_type": "code",
   "execution_count": 14,
   "metadata": {
    "collapsed": false
   },
   "outputs": [
    {
     "data": {
      "text/plain": [
       "numpy.ndarray"
      ]
     },
     "execution_count": 14,
     "metadata": {},
     "output_type": "execute_result"
    }
   ],
   "source": [
    "type(X_train)"
   ]
  },
  {
   "cell_type": "code",
   "execution_count": 9,
   "metadata": {
    "collapsed": false,
    "scrolled": true
   },
   "outputs": [
    {
     "data": {
      "text/plain": [
       "(455, 30)"
      ]
     },
     "execution_count": 9,
     "metadata": {},
     "output_type": "execute_result"
    }
   ],
   "source": [
    "X_train.shape"
   ]
  },
  {
   "cell_type": "code",
   "execution_count": 10,
   "metadata": {
    "collapsed": false
   },
   "outputs": [
    {
     "data": {
      "text/plain": [
       "(455,)"
      ]
     },
     "execution_count": 10,
     "metadata": {},
     "output_type": "execute_result"
    }
   ],
   "source": [
    "y_train.shape"
   ]
  },
  {
   "cell_type": "code",
   "execution_count": 8,
   "metadata": {
    "collapsed": false
   },
   "outputs": [
    {
     "name": "stdout",
     "output_type": "stream",
     "text": [
      "0.98021978022\n",
      "{'clf__C': 1.0, 'clf__kernel': 'linear', 'pca__n_components': 8}\n"
     ]
    }
   ],
   "source": [
    "from sklearn.preprocessing import StandardScaler\n",
    "from sklearn.decomposition import PCA\n",
    "from sklearn.linear_model import LogisticRegression\n",
    "from sklearn.pipeline import Pipeline\n",
    "from sklearn.grid_search import GridSearchCV\n",
    "from sklearn.svm import SVC\n",
    "pipe_svc1  = Pipeline([('scl',StandardScaler()),('pca',PCA()),('clf',SVC(random_state=1))])\n",
    "param_range = [0.0001, 0.001,0.01,0.1,1.0,10.0,100.0,1000.0]\n",
    "compo_range = [2,3,4,5,6,7,8,9,10]\n",
    "#Cを大きくすると誤分類を許さない   gammaを大きくするとサンプル間の距離が大きく評価され過学習になりやすい\n",
    "#つまりどちらのパラメータも大きくしすぎると過学習\n",
    "param_grid = [{'pca__n_components':compo_range,'clf__C': param_range, 'clf__kernel': ['linear']},\n",
    "                          {'pca__n_components':compo_range,'clf__C': param_range, 'clf__gamma': param_range, 'clf__kernel': ['rbf']}]\n",
    "#ハイパーパラメータ値のリストparam_gridを指定し、グリッドサーチを行うGridSearchCVクラスのインスタンス化\n",
    "gs = GridSearchCV(estimator=pipe_svc1, param_grid=param_grid, scoring='accuracy', cv=10, n_jobs=-1)\n",
    "gs.fit(X_train,y_train)\n",
    "#モデルの最良スコアを出力\n",
    "print(gs.best_score_)\n",
    "#最良スコアとなるパラメータ値を出力\n",
    "print(gs.best_params_)"
   ]
  },
  {
   "cell_type": "code",
   "execution_count": 29,
   "metadata": {
    "collapsed": false
   },
   "outputs": [
    {
     "name": "stdout",
     "output_type": "stream",
     "text": [
      "Test accuracy: 0.974\n"
     ]
    }
   ],
   "source": [
    "#最良のモデルをテストデータセットにかける\n",
    "clf = gs.best_estimator_\n",
    "#まずはトレーニングセット全体でトレーニングを行う\n",
    "clf.fit(X_train,y_train)\n",
    "\n",
    "print('Test accuracy: %.3f' % clf.score(X_test,y_test))"
   ]
  },
  {
   "cell_type": "code",
   "execution_count": 30,
   "metadata": {
    "collapsed": false
   },
   "outputs": [
    {
     "data": {
      "text/plain": [
       "(<scipy.stats._distn_infrastructure.rv_frozen at 0x11b251be0>,)"
      ]
     },
     "execution_count": 30,
     "metadata": {},
     "output_type": "execute_result"
    }
   ],
   "source": [
    "import scipy as sp\n",
    "sp.stats.uniform(0.5,0.5),"
   ]
  },
  {
   "cell_type": "code",
   "execution_count": 31,
   "metadata": {
    "collapsed": true
   },
   "outputs": [],
   "source": [
    "N = 10000\n",
    "x = np.random.uniform(0.5, 0.5,N)"
   ]
  },
  {
   "cell_type": "code",
   "execution_count": 32,
   "metadata": {
    "collapsed": false
   },
   "outputs": [
    {
     "data": {
      "text/plain": [
       "array([ 0.5,  0.5,  0.5, ...,  0.5,  0.5,  0.5])"
      ]
     },
     "execution_count": 32,
     "metadata": {},
     "output_type": "execute_result"
    }
   ],
   "source": [
    "x"
   ]
  },
  {
   "cell_type": "code",
   "execution_count": 33,
   "metadata": {
    "collapsed": false
   },
   "outputs": [
    {
     "data": {
      "image/png": "[encoded data removed]",
      "text/plain": [
       "<matplotlib.figure.Figure at 0x11b207048>"
      ]
     },
     "metadata": {},
     "output_type": "display_data"
    }
   ],
   "source": [
    "nbins = 50\n",
    "plt.hist(x, nbins, normed=True)\n",
    "plt.show()\n"
   ]
  },
  {
   "cell_type": "markdown",
   "metadata": {},
   "source": [
    "            gs.predictとgs.best_estimator_.predictは同じ！"
   ]
  },
  {
   "cell_type": "code",
   "execution_count": 34,
   "metadata": {
    "collapsed": false
   },
   "outputs": [
    {
     "name": "stdout",
     "output_type": "stream",
     "text": [
      "CV accuracy: 0.965 +/- 0.025\n"
     ]
    }
   ],
   "source": [
    "param_range = [0.0001, 0.001,0.01,0.1,1.0,10.0,100.0,1000.0]\n",
    "#Cを大きくすると誤分類を許さない   gammaを大きくするとサンプル間の距離が大きく評価され過学習になりやすい\n",
    "#つまりどちらのパラメータも大きくしすぎると過学習\n",
    "param_grid = [{'clf__C': param_range, 'clf__kernel': ['linear']},\n",
    "                          {'clf__C': param_range, 'clf__gamma': param_range, 'clf__kernel': ['rbf']}]\n",
    "\n",
    "gs = GridSearchCV(estimator=pipe_svc,param_grid=param_grid, scoring='accuracy',cv=2,n_jobs=-1)\n",
    "scores = cross_val_score(gs, X_train, y_train, scoring='accuracy', cv=5)\n",
    "print('CV accuracy: %.3f +/- %.3f' % (np.mean(scores), np.std(scores)))"
   ]
  },
  {
   "cell_type": "code",
   "execution_count": 35,
   "metadata": {
    "collapsed": false
   },
   "outputs": [
    {
     "data": {
      "text/plain": [
       "array([ 0.95604396,  0.92307692,  1.        ,  0.96703297,  0.97802198])"
      ]
     },
     "execution_count": 35,
     "metadata": {},
     "output_type": "execute_result"
    }
   ],
   "source": [
    "scores"
   ]
  },
  {
   "cell_type": "code",
   "execution_count": 36,
   "metadata": {
    "collapsed": false
   },
   "outputs": [
    {
     "name": "stdout",
     "output_type": "stream",
     "text": [
      "CV accuracy: 0.921 +/- 0.029\n"
     ]
    }
   ],
   "source": [
    "from sklearn.tree import DecisionTreeClassifier\n",
    "#ハイパーパラメータ値として決定木の深さパラメータを指定し、グリッドサーチを行うGrifSearchCVクラスをインスタンス化\n",
    "gs = GridSearchCV(estimator=DecisionTreeClassifier(random_state=0),\n",
    "                                  param_grid = [{'max_depth': [1,2,3,4,5,6,7,None]}],\n",
    "                                  scoring='accuracy',cv=2)\n",
    "scores = cross_val_score(gs,X_train,y_train,scoring='accuracy',cv=5)\n",
    "print('CV accuracy: %.3f +/- %.3f' % (np.mean(scores), np.std(scores)))"
   ]
  },
  {
   "cell_type": "code",
   "execution_count": 37,
   "metadata": {
    "collapsed": false,
    "scrolled": false
   },
   "outputs": [
    {
     "data": {
      "text/plain": [
       "{'bootstrap': True,\n",
       " 'class_weight': None,\n",
       " 'criterion': 'gini',\n",
       " 'max_depth': None,\n",
       " 'max_features': 'auto',\n",
       " 'max_leaf_nodes': None,\n",
       " 'min_samples_leaf': 1,\n",
       " 'min_samples_split': 2,\n",
       " 'min_weight_fraction_leaf': 0.0,\n",
       " 'n_estimators': 10,\n",
       " 'n_jobs': 1,\n",
       " 'oob_score': False,\n",
       " 'random_state': None,\n",
       " 'verbose': 0,\n",
       " 'warm_start': False}"
      ]
     },
     "execution_count": 37,
     "metadata": {},
     "output_type": "execute_result"
    }
   ],
   "source": [
    "from sklearn.ensemble import RandomForestClassifier\n",
    "RandomForestClassifier().get_params()"
   ]
  },
  {
   "cell_type": "code",
   "execution_count": 38,
   "metadata": {
    "collapsed": false
   },
   "outputs": [
    {
     "name": "stdout",
     "output_type": "stream",
     "text": [
      "[[71  1]\n",
      " [ 2 40]]\n"
     ]
    }
   ],
   "source": [
    "#混合行列を生成\n",
    "from sklearn.metrics import confusion_matrix\n",
    "pipe_svc.fit(X_train, y_train)\n",
    "y_pred = pipe_svc.predict(X_test)\n",
    "\n",
    "confmat = confusion_matrix(y_true= y_test, y_pred= y_pred)\n",
    "print(confmat)"
   ]
  },
  {
   "cell_type": "code",
   "execution_count": 39,
   "metadata": {
    "collapsed": false
   },
   "outputs": [
    {
     "data": {
      "image/png": "[encoded data removed]",
      "text/plain": [
       "<matplotlib.figure.Figure at 0x1180b2588>"
      ]
     },
     "metadata": {},
     "output_type": "display_data"
    }
   ],
   "source": [
    "#図のサイズを指定\n",
    "fig, ax= plt.subplots(figsize=(2.5,2.5))\n",
    "#matshow関数で行列からヒートマップを描画\n",
    "ax.matshow(confmat, cmap=plt.cm.Blues, alpha=0.3)\n",
    "for i in range(confmat.shape[0]):\n",
    "    for j in range(confmat.shape[1]):\n",
    "        ax.text(x=j, y=i, s=confmat[i, j], va='center', ha='center') #件数を表示\n",
    "        \n",
    "plt.xlabel('predicted label')\n",
    "plt.ylabel('true label')\n",
    "plt.show()"
   ]
  },
  {
   "cell_type": "code",
   "execution_count": 40,
   "metadata": {
    "collapsed": false
   },
   "outputs": [
    {
     "name": "stdout",
     "output_type": "stream",
     "text": [
      "Precision: 0.976\n",
      "Precision: 0.952\n",
      "Precision: 0.964\n"
     ]
    }
   ],
   "source": [
    "#適合率、再現率、F１スコアを出力\n",
    "from sklearn.metrics import precision_score\n",
    "from sklearn.metrics import recall_score, f1_score\n",
    "print('Precision: %.3f' % (precision_score(y_true=y_test, y_pred= y_pred)))\n",
    "print('Precision: %.3f' % (recall_score(y_true=y_test, y_pred= y_pred)))\n",
    "print('Precision: %.3f' % (f1_score(y_true=y_test, y_pred= y_pred)))"
   ]
  },
  {
   "cell_type": "code",
   "execution_count": 41,
   "metadata": {
    "collapsed": true
   },
   "outputs": [],
   "source": [
    "from sklearn.metrics import make_scorer\n",
    "scorer = make_scorer(f1_score, pos_label=0)\n",
    "\n",
    "gs = GridSearchCV(estimator=pipe_svc, param_grid=param_grid, scoring=scorer, cv=10)"
   ]
  },
  {
   "cell_type": "code",
   "execution_count": 42,
   "metadata": {
    "collapsed": false
   },
   "outputs": [
    {
     "data": {
      "image/png": "[encoded data removed]",
      "text/plain": [
       "<matplotlib.figure.Figure at 0x11b790208>"
      ]
     },
     "metadata": {},
     "output_type": "display_data"
    }
   ],
   "source": [
    "##ROCの曲線描画\n",
    "from sklearn.metrics import roc_curve, auc\n",
    "from scipy import interp\n",
    "\n",
    "#スケーリング、主成分分析、ロジスティック回帰を指定してPipelineクラスをインスタンス化\n",
    "pipe_lr = Pipeline([('scl',StandardScaler()),\n",
    "                                 ('pca',PCA(n_components=2)),\n",
    "                                 ('clf', LogisticRegression(penalty='l2', random_state=0, C=100.0))])\n",
    "\n",
    "#二つの特徴量を抽出\n",
    "X_train2 = X_train[:, [4,14]]\n",
    "#層化k分割交差検証イテレータのStratifiedKFoldクラスをインスタンス化(分割数を3にしている)\n",
    "cv = StratifiedKFold(y_train, n_folds=3, random_state=1)\n",
    "fig = plt.figure(figsize=(7,5))\n",
    "mean_tpr = 0.0\n",
    "#0から1までの間で100個の要素を生成\n",
    "mean_fpr = np.linspace(0,1,100)\n",
    "all_tpr = []\n",
    "for i, (train, test) in enumerate(cv):\n",
    "    #predict_probaメソッドで確率を予測、fitメソッドでモデルに適合させる\n",
    "    probas = pipe_lr.fit(X_train2[train],y_train[train]).predict_proba(X_train2[test])\n",
    "    #roc_curve関数でROC曲線の性能を計算してプロット\n",
    "    #probasの一列目は1である確率(0列目が0である確率)\n",
    "    #pos_label で1を陽性に指定\n",
    "    fpr, tpr, thresholds = roc_curve(y_train[test], probas[:, 1], pos_label=1)\n",
    "    #interpは線形補間(fprを横軸に取ってtprの折れ線グラフを書いたときにmean_fprがどこに位置するか)\n",
    "    #あとでlen(cv)で割っている\n",
    "    mean_tpr += interp(mean_fpr, fpr, tpr)\n",
    "    mean_tpr[0] = 0.0\n",
    "    roc_auc = auc(fpr, tpr) #曲線下面積(AUC)を計算\n",
    "    plt.plot(fpr, tpr, lw=1, label='ROC fold %d (area = %0.2f)' % (i+1, roc_auc))\n",
    "    \n",
    "#当て推量をプロット\n",
    "plt.plot([0,1], [0,1], linestyle='--', color=(0.6,0.6,0.6), label='random guessing')\n",
    "#FPR, TRR, ROC, AUC それぞれの平均を計算してプロット\n",
    "mean_tpr /= len(cv)\n",
    "mean_tpr[-1] = 1.0\n",
    "#3つのグループの平均AUCを計算\n",
    "mean_auc = auc(mean_fpr, mean_tpr)\n",
    "plt.plot(mean_fpr, mean_tpr, 'k--', label='mean ROC (area = %0.2f)' % mean_auc, lw=2)\n",
    "#完全に正解したときのROC曲線をプロット\n",
    "plt.plot([0,0,1], [0,1,1], lw=2, linestyle=':', color='black', label='perfect performance')\n",
    "#グラフの各項目を指定\n",
    "plt.xlim([-0.05, 1.05])\n",
    "plt.ylim([-0.05, 1.05])\n",
    "plt.xlabel('false positive rate')\n",
    "plt.ylabel('true positive rate')\n",
    "plt.title('Receiver Operator Characteristics')\n",
    "plt.legend(loc='lower right')\n",
    "plt.show()"
   ]
  },
  {
   "cell_type": "code",
   "execution_count": 43,
   "metadata": {
    "collapsed": false
   },
   "outputs": [
    {
     "data": {
      "text/plain": [
       "<matplotlib.figure.Figure at 0x11b26eda0>"
      ]
     },
     "metadata": {},
     "output_type": "display_data"
    }
   ],
   "source": [
    "from sklearn.metrics import roc_curve, auc\n",
    "from scipy import interp\n",
    "\n",
    "#スケーリング、主成分分析、ロジスティック回帰を指定してPipelineクラスをインスタンス化\n",
    "pipe_lr = Pipeline([('scl',StandardScaler()),\n",
    "                                 ('pca',PCA(n_components=2)),\n",
    "                                 ('clf', LogisticRegression(penalty='l2', random_state=0, C=100.0))])\n",
    "\n",
    "#二つの特徴量を抽出\n",
    "X_train2 = X_train[:, [4,14]]\n",
    "#層化k分割交差検証イテレータのStratifiedKFoldクラスをインスタンス化(分割数を3にしている)\n",
    "cv = StratifiedKFold(y_train, n_folds=3, random_state=1)\n",
    "fig = plt.figure(figsize=(7,5))\n",
    "mean_tpr = 0.0\n",
    "#0から1までの間で100個の要素を生成\n",
    "mean_fpr = np.linspace(0,1,100)\n",
    "all_tpr = []\n",
    "\n",
    "X_test2 = X_test[:, [4,14]]\n",
    "probas = pipe_lr.fit(X_train2,y_train).predict_proba(X_test2)\n",
    "#roc_curve関数でROC曲線の性能を計算してプロット\n",
    "fpr, tpr, thresholds = roc_curve(y_test, probas[:, 1], pos_label=1)"
   ]
  },
  {
   "cell_type": "code",
   "execution_count": 44,
   "metadata": {
    "collapsed": false
   },
   "outputs": [
    {
     "data": {
      "text/plain": [
       "array([ 0.        ,  0.        ,  0.01388889,  0.01388889,  0.02777778,\n",
       "        0.02777778,  0.05555556,  0.05555556,  0.08333333,  0.08333333,\n",
       "        0.09722222,  0.09722222,  0.125     ,  0.125     ,  0.13888889,\n",
       "        0.13888889,  0.16666667,  0.16666667,  0.18055556,  0.18055556,\n",
       "        0.19444444,  0.19444444,  0.22222222,  0.22222222,  0.23611111,\n",
       "        0.23611111,  0.25      ,  0.25      ,  0.40277778,  0.40277778,\n",
       "        0.45833333,  0.45833333,  0.48611111,  0.48611111,  0.5       ,\n",
       "        0.5       ,  0.52777778,  0.52777778,  0.56944444,  0.56944444,\n",
       "        0.59722222,  0.59722222,  0.66666667,  0.66666667,  0.72222222,\n",
       "        0.72222222,  0.79166667,  0.79166667,  0.83333333,  0.83333333,  1.        ])"
      ]
     },
     "execution_count": 44,
     "metadata": {},
     "output_type": "execute_result"
    }
   ],
   "source": [
    "fpr"
   ]
  },
  {
   "cell_type": "code",
   "execution_count": 45,
   "metadata": {
    "collapsed": false
   },
   "outputs": [
    {
     "data": {
      "text/plain": [
       "array([ 0.02380952,  0.07142857,  0.07142857,  0.28571429,  0.28571429,\n",
       "        0.35714286,  0.35714286,  0.38095238,  0.38095238,  0.4047619 ,\n",
       "        0.4047619 ,  0.42857143,  0.42857143,  0.45238095,  0.45238095,\n",
       "        0.47619048,  0.47619048,  0.5       ,  0.5       ,  0.54761905,\n",
       "        0.54761905,  0.57142857,  0.57142857,  0.5952381 ,  0.5952381 ,\n",
       "        0.64285714,  0.64285714,  0.69047619,  0.69047619,  0.71428571,\n",
       "        0.71428571,  0.76190476,  0.76190476,  0.78571429,  0.78571429,\n",
       "        0.80952381,  0.80952381,  0.83333333,  0.83333333,  0.85714286,\n",
       "        0.85714286,  0.88095238,  0.88095238,  0.9047619 ,  0.9047619 ,\n",
       "        0.92857143,  0.92857143,  0.97619048,  0.97619048,  1.        ,  1.        ])"
      ]
     },
     "execution_count": 45,
     "metadata": {},
     "output_type": "execute_result"
    }
   ],
   "source": [
    "tpr"
   ]
  },
  {
   "cell_type": "code",
   "execution_count": 46,
   "metadata": {
    "collapsed": false
   },
   "outputs": [
    {
     "data": {
      "text/plain": [
       "array([ 0.92705838,  0.84818441,  0.84603236,  0.70433578,  0.6992612 ,\n",
       "        0.66011593,  0.64670223,  0.63124513,  0.6252612 ,  0.61442044,\n",
       "        0.59710012,  0.59407127,  0.57145401,  0.56819911,  0.56304064,\n",
       "        0.53723503,  0.4656605 ,  0.46289856,  0.45826003,  0.43378513,\n",
       "        0.42254045,  0.41775617,  0.39395828,  0.39087418,  0.37820248,\n",
       "        0.36096894,  0.35660996,  0.35272283,  0.31878074,  0.31132387,\n",
       "        0.29076621,  0.28530875,  0.27315072,  0.27190803,  0.26490663,\n",
       "        0.26464431,  0.25890534,  0.25392103,  0.23811928,  0.23571407,\n",
       "        0.22286924,  0.21525332,  0.17829231,  0.17661834,  0.167953  ,\n",
       "        0.16605363,  0.16173902,  0.13691314,  0.11246706,  0.1100227 ,\n",
       "        0.04384959])"
      ]
     },
     "execution_count": 46,
     "metadata": {},
     "output_type": "execute_result"
    }
   ],
   "source": [
    "thresholds"
   ]
  },
  {
   "cell_type": "code",
   "execution_count": 47,
   "metadata": {
    "collapsed": false
   },
   "outputs": [
    {
     "data": {
      "text/plain": [
       "114"
      ]
     },
     "execution_count": 47,
     "metadata": {},
     "output_type": "execute_result"
    }
   ],
   "source": [
    "len(probas[:,1])"
   ]
  },
  {
   "cell_type": "code",
   "execution_count": 48,
   "metadata": {
    "collapsed": false
   },
   "outputs": [
    {
     "data": {
      "text/plain": [
       "<Signature (y_true, y_score, pos_label=None, sample_weight=None, drop_intermediate=True)>"
      ]
     },
     "execution_count": 48,
     "metadata": {},
     "output_type": "execute_result"
    }
   ],
   "source": [
    "#関数の引数を調べる\n",
    "import inspect\n",
    "inspect.signature(roc_curve)"
   ]
  },
  {
   "cell_type": "code",
   "execution_count": 49,
   "metadata": {
    "collapsed": false
   },
   "outputs": [
    {
     "data": {
      "text/plain": [
       "array([ 0.07142857,  0.07142857,  0.28571429,  0.35714286,  0.35714286,\n",
       "        0.35714286,  0.38095238,  0.38095238,  0.38095238,  0.4047619 ,\n",
       "        0.42857143,  0.42857143,  0.42857143,  0.45238095,  0.47619048,\n",
       "        0.47619048,  0.47619048,  0.5       ,  0.54761905,  0.54761905,\n",
       "        0.57142857,  0.57142857,  0.5952381 ,  0.5952381 ,  0.64285714,\n",
       "        0.69047619,  0.69047619,  0.69047619,  0.69047619,  0.69047619,\n",
       "        0.69047619,  0.69047619,  0.69047619,  0.69047619,  0.69047619,\n",
       "        0.69047619,  0.69047619,  0.69047619,  0.69047619,  0.69047619,\n",
       "        0.71428571,  0.71428571,  0.71428571,  0.71428571,  0.71428571,\n",
       "        0.71428571,  0.76190476,  0.76190476,  0.76190476,  0.78571429,\n",
       "        0.80952381,  0.80952381,  0.80952381,  0.83333333,  0.83333333,\n",
       "        0.83333333,  0.83333333,  0.85714286,  0.85714286,  0.85714286,\n",
       "        0.88095238,  0.88095238,  0.88095238,  0.88095238,  0.88095238,\n",
       "        0.88095238,  0.9047619 ,  0.9047619 ,  0.9047619 ,  0.9047619 ,\n",
       "        0.9047619 ,  0.9047619 ,  0.92857143,  0.92857143,  0.92857143,\n",
       "        0.92857143,  0.92857143,  0.92857143,  0.92857143,  0.97619048,\n",
       "        0.97619048,  0.97619048,  0.97619048,  1.        ,  1.        ,\n",
       "        1.        ,  1.        ,  1.        ,  1.        ,  1.        ,\n",
       "        1.        ,  1.        ,  1.        ,  1.        ,  1.        ,\n",
       "        1.        ,  1.        ,  1.        ,  1.        ,  1.        ])"
      ]
     },
     "execution_count": 49,
     "metadata": {},
     "output_type": "execute_result"
    }
   ],
   "source": [
    "interp(mean_fpr, fpr, tpr)"
   ]
  },
  {
   "cell_type": "code",
   "execution_count": 50,
   "metadata": {
    "collapsed": false
   },
   "outputs": [
    {
     "data": {
      "text/plain": [
       "<Signature (x, xp, fp, left=None, right=None, period=None)>"
      ]
     },
     "execution_count": 50,
     "metadata": {},
     "output_type": "execute_result"
    }
   ],
   "source": [
    "inspect.signature(interp)"
   ]
  },
  {
   "cell_type": "code",
   "execution_count": 51,
   "metadata": {
    "collapsed": false
   },
   "outputs": [
    {
     "data": {
      "text/plain": [
       "array([ 4. ,  1.5])"
      ]
     },
     "execution_count": 51,
     "metadata": {},
     "output_type": "execute_result"
    }
   ],
   "source": [
    "xp = [1, 2, 3]\n",
    "fp = [6, 2, 1]\n",
    "np.interp([1.5, 2.5], xp, fp)"
   ]
  },
  {
   "cell_type": "code",
   "execution_count": 52,
   "metadata": {
    "collapsed": false
   },
   "outputs": [
    {
     "data": {
      "text/plain": [
       "1.5"
      ]
     },
     "execution_count": 52,
     "metadata": {},
     "output_type": "execute_result"
    }
   ],
   "source": [
    "np.interp(2.5, xp, fp)"
   ]
  },
  {
   "cell_type": "code",
   "execution_count": 53,
   "metadata": {
    "collapsed": false
   },
   "outputs": [
    {
     "data": {
      "text/plain": [
       "5.6"
      ]
     },
     "execution_count": 53,
     "metadata": {},
     "output_type": "execute_result"
    }
   ],
   "source": [
    "np.interp(1.1, xp, fp)"
   ]
  },
  {
   "cell_type": "code",
   "execution_count": 54,
   "metadata": {
    "collapsed": false
   },
   "outputs": [
    {
     "name": "stdout",
     "output_type": "stream",
     "text": [
      "ROC AUC: 0.662\n",
      "Accuracy: 0.711\n"
     ]
    }
   ],
   "source": [
    "#roc_auc_score関数でAUC値のみ出力できる\n",
    "\n",
    "##予測値のAUCと正解率を計算して出力\n",
    "pipe_lr = pipe_lr.fit(X_train2, y_train)\n",
    "y_pred2 = pipe_lr.predict(X_test[:, [4,14]])\n",
    "from sklearn.metrics import roc_auc_score, accuracy_score\n",
    "print('ROC AUC: %.3f' % roc_auc_score(y_true=y_test, y_score=y_pred2))\n",
    "print('Accuracy: %.3f' % accuracy_score(y_true=y_test, y_pred=y_pred2))"
   ]
  },
  {
   "cell_type": "code",
   "execution_count": 55,
   "metadata": {
    "collapsed": false
   },
   "outputs": [
    {
     "data": {
      "text/plain": [
       "array([0, 1, 0, 0, 0, 1, 0, 0, 0, 1, 1, 0, 1, 0, 0, 1, 0, 1, 0, 0, 0, 0, 0,\n",
       "       1, 1, 0, 0, 0, 1, 0, 0, 0, 1, 1, 0, 0, 0, 0, 1, 0, 1, 0, 0, 0, 1, 1,\n",
       "       0, 0, 0, 0, 0, 1, 0, 0, 0, 0, 0, 0, 0, 0, 0, 1, 0, 0, 0, 0, 0, 0, 0,\n",
       "       0, 0, 0, 0, 1, 0, 0, 0, 0, 0, 1, 0, 1, 0, 0, 1, 0, 1, 0, 0, 1, 0, 1,\n",
       "       0, 0, 1, 1, 0, 1, 0, 0, 1, 0, 0, 0, 0, 0, 0, 0, 0, 1, 1, 0, 0, 0])"
      ]
     },
     "execution_count": 55,
     "metadata": {},
     "output_type": "execute_result"
    }
   ],
   "source": [
    "y_pred2"
   ]
  },
  {
   "cell_type": "code",
   "execution_count": 56,
   "metadata": {
    "collapsed": false
   },
   "outputs": [
    {
     "data": {
      "image/png": "[encoded data removed]",
      "text/plain": [
       "<matplotlib.figure.Figure at 0x11b74fe10>"
      ]
     },
     "metadata": {},
     "output_type": "display_data"
    }
   ],
   "source": [
    "#層化k分割交差検証イテレータのStratifiedKFoldクラスをインスタンス化(分割数を3にしている)\n",
    "cv = StratifiedKFold(y_train, n_folds=3, random_state=1)\n",
    "fig = plt.figure(figsize=(7,5))\n",
    "mean_tpr = 0.0\n",
    "#0から1までの間で100個の要素を生成\n",
    "mean_fpr = np.linspace(0,1,100)\n",
    "all_tpr = []\n",
    "for i, (train, test) in enumerate(cv):\n",
    "    #predict_probaメソッドで確率を予測、fitメソッドでモデルに適合させる\n",
    "    probas = pipe_lr.fit(X_train2[train],y_train[train]).predict(X_train2[test])\n",
    "    #roc_curve関数でROC曲線の性能を計算してプロット\n",
    "    #probasの一列目は1である確率\n",
    "    #pos_label で1を陽性に指定\n",
    "    fpr, tpr, thresholds = roc_curve(y_train[test], probas, pos_label=1)\n",
    "    #interpは線形補間(fprを横軸に取ってtprの折れ線グラフを書いたときにmean_fprがどこに位置するか)\n",
    "    #あとでlen(cv)で割っている\n",
    "    mean_tpr += interp(mean_fpr, fpr, tpr)\n",
    "    mean_tpr[0] = 0.0\n",
    "    roc_auc = auc(fpr, tpr) #曲線下面積(AUC)を計算\n",
    "    plt.plot(fpr, tpr, lw=1, label='ROC fold %d (area = %0.2f)' % (i+1, roc_auc))\n",
    "    \n",
    "#当て推量をプロット\n",
    "plt.plot([0,1], [0,1], linestyle='--', color=(0.6,0.6,0.6), label='random guessing')\n",
    "#FPR, TRR, ROC, AUC それぞれの平均を計算してプロット\n",
    "mean_tpr /= len(cv)\n",
    "mean_tpr[-1] = 1.0\n",
    "#3つのグループの平均AUCを計算\n",
    "mean_auc = auc(mean_fpr, mean_tpr)\n",
    "plt.plot(mean_fpr, mean_tpr, 'k--', label='mean ROC (area = %0.2f)' % mean_auc, lw=2)\n",
    "#完全に正解したときのROC曲線をプロット\n",
    "plt.plot([0,0,1], [0,1,1], lw=2, linestyle=':', color='black', label='perfect performance')\n",
    "#グラフの各項目を指定\n",
    "plt.xlim([-0.05, 1.05])\n",
    "plt.ylim([-0.05, 1.05])\n",
    "plt.xlabel('false positive rate')\n",
    "plt.ylabel('true positive rate')\n",
    "plt.title('Receiver Operator Characteristics')\n",
    "plt.legend(loc='lower right')\n",
    "plt.show()"
   ]
  },
  {
   "cell_type": "markdown",
   "metadata": {},
   "source": [
    "predict_probaをpredictをすることはROC曲線のしきい値を一つに決めていることと同じ\n",
    "\n",
    "正解率はROC曲線における1つのしきい値である"
   ]
  },
  {
   "cell_type": "code",
   "execution_count": 57,
   "metadata": {
    "collapsed": true
   },
   "outputs": [],
   "source": [
    "pre_scorer = make_scorer(score_func=precision_score,\n",
    "                                               pos_label=1,greater_is_better=True, average='micro')"
   ]
  },
  {
   "cell_type": "code",
   "execution_count": null,
   "metadata": {
    "collapsed": true
   },
   "outputs": [],
   "source": []
  }
 ],
 "metadata": {
  "kernelspec": {
   "display_name": "Python 3",
   "language": "python",
   "name": "python3"
  },
  "language_info": {
   "codemirror_mode": {
    "name": "ipython",
    "version": 3
   },
   "file_extension": ".py",
   "mimetype": "text/x-python",
   "name": "python",
   "nbconvert_exporter": "python",
   "pygments_lexer": "ipython3",
   "version": "3.5.1"
  }
 },
 "nbformat": 4,
 "nbformat_minor": 0
}
