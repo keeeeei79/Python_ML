{
 "cells": [
  {
   "cell_type": "code",
   "execution_count": 5,
   "metadata": {
    "collapsed": true
   },
   "outputs": [],
   "source": [
    "%matplotlib inline"
   ]
  },
  {
   "cell_type": "code",
   "execution_count": 6,
   "metadata": {
    "collapsed": true
   },
   "outputs": [],
   "source": [
    "import os\n",
    "import struct\n",
    "import numpy as np"
   ]
  },
  {
   "cell_type": "markdown",
   "metadata": {},
   "source": [
    "ファイルの内容を読み出すには、 f.read(size) を呼び出します。このメソッドはある量のデータを読み出して、文字列として返します。 size は省略可能な数値引数です。 size が省略されたり負の数であった場合、ファイルの内容全てを読み出して返します。ただし、ファイルがマシンのメモリの二倍の大きさもある場合にはどうなるかわかりません。 size が負でない数ならば、最大で size バイトを読み出して返します。ファイルの終端にすでに達していた場合、 f.read() は空の文字列 (\"\") を返します。\n",
    "http://docs.python.jp/2/tutorial/inputoutput.html"
   ]
  },
  {
   "cell_type": "markdown",
   "metadata": {},
   "source": [
    "ビッグエンディアン(>)     2バイト以上のデータ量を持つ数値データを記録したり転送するときには1バイトごとに分割するが、これを最上位のバイトから順番に記録/送信する方式"
   ]
  },
  {
   "cell_type": "code",
   "execution_count": 16,
   "metadata": {
    "collapsed": true
   },
   "outputs": [],
   "source": [
    "def load_mnist(path, kind='train'):\n",
    "    \"\"\"MNISTデータをpathからロード\"\"\"\n",
    "    #引数を指定したパスを結合(ラベルや画像のパスを作成)\n",
    "    labels_path = os.path.join(path, '%s-labels-idx1-ubyte' %kind)\n",
    "    images_path = os.path.join(path, '%s-images-idx3-ubyte' %kind)\n",
    "    \n",
    "    #ファイルを読み込む:\n",
    "    #引数にファイル、モードを指定\n",
    "    with open(labels_path, 'rb') as lbpath:\n",
    "        #バイナリーを文字列に変換: unpack関数の引数にフォーマット(>はビッグエンディアン、Iは符号なし整数)、\n",
    "        #８バイト分のバイナリーデータを指定してマジックナンバー、アイテムの個数を読み込む\n",
    "        #ヘッダ領域が 8 バイト\n",
    "        magic, n = struct.unpack('>II', lbpath.read(8))\n",
    "        #ファイルからラベルを読み込み、配列を構築: fromfile関数の引数にファイル、配列のデータ形式を指定\n",
    "        labels = np.fromfile(lbpath, dtype=np.uint8)\n",
    "        \n",
    "    with open(images_path, 'rb') as imgpath:\n",
    "        #ヘッダ領域が 16 バイト\n",
    "        magic, num, rows, cols = struct.unpack(\">IIII\", imgpath.read(16))\n",
    "        #画像ピクセル情報の配列のサイズを変更\n",
    "        # (行数:ラベルのサイズ, 列数:特徴量の個数)\n",
    "        images = np.fromfile(imgpath, dtype=np.uint8).reshape(len(labels), 784)\n",
    "        \n",
    "    return images, labels"
   ]
  },
  {
   "cell_type": "markdown",
   "metadata": {},
   "source": [
    "mnistのラベルデータは最初の8バイト(数値二つ)はマジックナンバーと個数が格納されているからstruct.unpackで読み込む\n",
    "その後は、ラベルデータが並んでいるのでnp.fromfileで読み込む。\n",
    "EX) 2049, 60000, 2,3,4,3,6,8,3,1,1,,,,,という感じ。\n",
    "イメージの方は28×28ピクセルのデータなので一つのデータ(一行)に784個数値が入る。"
   ]
  },
  {
   "cell_type": "code",
   "execution_count": 8,
   "metadata": {
    "collapsed": false,
    "scrolled": false
   },
   "outputs": [
    {
     "name": "stdout",
     "output_type": "stream",
     "text": [
      "Rows: 60000, columns: 784\n",
      "Rows: 10000, columns: 784\n"
     ]
    }
   ],
   "source": [
    "X_train, y_train = load_mnist('/Users/keeeeei/Desktop/データ分析/Python機械学習プログラミング/mnist', kind='train')\n",
    "print('Rows: %d, columns: %d' %(X_train.shape[0], X_train.shape[1]))\n",
    "X_test, y_test = load_mnist('/Users/keeeeei/Desktop/データ分析/Python機械学習プログラミング/mnist', kind='t10k')\n",
    "print('Rows: %d, columns: %d' %(X_test.shape[0], X_test.shape[1]))"
   ]
  },
  {
   "cell_type": "code",
   "execution_count": 15,
   "metadata": {
    "collapsed": false,
    "scrolled": true
   },
   "outputs": [
    {
     "data": {
      "text/plain": [
       "5"
      ]
     },
     "execution_count": 15,
     "metadata": {},
     "output_type": "execute_result"
    }
   ],
   "source": [
    "y_train[0]"
   ]
  },
  {
   "cell_type": "code",
   "execution_count": 12,
   "metadata": {
    "collapsed": false
   },
   "outputs": [
    {
     "data": {
      "image/png": "[encoded data removed]",
      "text/plain": [
       "<matplotlib.figure.Figure at 0x110871128>"
      ]
     },
     "metadata": {},
     "output_type": "display_data"
    }
   ],
   "source": [
    "import matplotlib.pyplot as plt\n",
    "#subplotsで描画の設定\n",
    "fig, ax = plt.subplots(nrows=2, ncols=5, sharex=True, sharey=True)\n",
    "ax = ax.flatten() #配列を１次元に変形\n",
    "for i in range(10):\n",
    "    img = X_train[y_train==i][0].reshape(28,28)\n",
    "    ax[i].imshow(img, cmap='Greys', interpolation='nearest') #色や補間方法を指定\n",
    "    \n",
    "ax[0].set_xticks([])\n",
    "ax[0].set_yticks([])\n",
    "plt.tight_layout()\n",
    "plt.show()"
   ]
  },
  {
   "cell_type": "code",
   "execution_count": 11,
   "metadata": {
    "collapsed": false
   },
   "outputs": [
    {
     "name": "stderr",
     "output_type": "stream",
     "text": [
      "0%                     100%\n",
      "[#########################] | ETA: 00:00:00\n",
      "Total time elapsed: 00:00:01\n"
     ]
    },
    {
     "data": {
      "image/png": "[encoded data removed]",
      "text/plain": [
       "<matplotlib.figure.Figure at 0x1119d90f0>"
      ]
     },
     "metadata": {},
     "output_type": "display_data"
    }
   ],
   "source": [
    "import pyprind\n",
    "import matplotlib.pyplot as plt\n",
    "pbar = pyprind.ProgBar(25)\n",
    "fig, ax = plt.subplots(nrows=5, ncols=5, sharex=True, sharey=True)\n",
    "ax = ax.flatten()\n",
    "for i in range(25):\n",
    "    img = X_train[y_train == 7][i].reshape(28,28)\n",
    "    ax[i].imshow(img, cmap='Greys', interpolation='nearest')\n",
    "    pbar.update()\n",
    "    \n",
    "ax[0].set_xticks([])\n",
    "ax[0].set_yticks([])\n",
    "plt.tight_layout()\n",
    "plt.show()"
   ]
  },
  {
   "cell_type": "code",
   "execution_count": null,
   "metadata": {
    "collapsed": true
   },
   "outputs": [],
   "source": [
    "#np.savetxt('train_img.csv', X_train, fmt='%i', delimeter=',')\n",
    "#np.savetxt('train_labels.csv', y_train, fmt='%i', delimeter=',')\n",
    "#np.savetxt('test_img.csv', X_test, fmt='%i', delimeter=',')\n",
    "#np.savetxt('test_labels.csv', y_test, fmt='%i', delimeter=',')"
   ]
  },
  {
   "cell_type": "code",
   "execution_count": null,
   "metadata": {
    "collapsed": true
   },
   "outputs": [],
   "source": [
    "#X_train = np.genfromtxt('train_img.csv', dtype=int, delimeter=',')\n",
    "#y_train = np.genfromtxt('train_labels.csv', dtype=int, delimeter=',')\n",
    "#X_test = np.genfromtxt('test_img.csv', dtype=int, delimeter=',')\n",
    "#y_test = np.genfromtxt('test_labels.csv', dtype=int, delimeter=',')"
   ]
  },
  {
   "cell_type": "code",
   "execution_count": 7,
   "metadata": {
    "collapsed": false,
    "scrolled": false
   },
   "outputs": [],
   "source": [
    "from neuralnet import NeuralNetMLP\n",
    "\n",
    "nn = NeuralNetMLP(n_output=10,n_features=X_train.shape[1], n_hidden=50, l2=0.1, l1=0.0, epochs=1000,\n",
    "                 eta = 0.001, alpha=0.001, decrease_const= 0.00001, shuffle = True, minibatches=50, random_state=1)\n",
    "\n",
    "#nn.fit(X_train, y_train, print_progress=True)"
   ]
  },
  {
   "cell_type": "code",
   "execution_count": 8,
   "metadata": {
    "collapsed": false
   },
   "outputs": [
    {
     "data": {
      "text/plain": [
       "{'alpha': 0.001,\n",
       " 'decrease_const': 1e-05,\n",
       " 'epochs': 1000,\n",
       " 'eta': 0.001,\n",
       " 'l1': 0.0,\n",
       " 'l2': 0.1,\n",
       " 'minibatches': 50,\n",
       " 'n_features': 784,\n",
       " 'n_hidden': 50,\n",
       " 'n_output': 10,\n",
       " 'random_state': None,\n",
       " 'shuffle': True}"
      ]
     },
     "execution_count": 8,
     "metadata": {},
     "output_type": "execute_result"
    }
   ],
   "source": [
    "nn.get_params()"
   ]
  },
  {
   "cell_type": "code",
   "execution_count": 11,
   "metadata": {
    "collapsed": false
   },
   "outputs": [],
   "source": [
    "lis =[nn.w1, nn.w2, nn.l1]"
   ]
  },
  {
   "cell_type": "code",
   "execution_count": 12,
   "metadata": {
    "collapsed": true
   },
   "outputs": [],
   "source": [
    "#シリアライズ化\n",
    "import pickle\n",
    "#pickle.dump(nn, open('NeuralNetMLP.pkl', 'wb'), protocol=4)\n",
    "\n",
    "#デシリアライズ化\n",
    "import pickle\n",
    "nn = pickle.load(open('NeuralNetMLP.pkl', 'rb'))"
   ]
  },
  {
   "cell_type": "code",
   "execution_count": 7,
   "metadata": {
    "collapsed": true
   },
   "outputs": [],
   "source": [
    "import matplotlib.pyplot as plt"
   ]
  },
  {
   "cell_type": "code",
   "execution_count": 8,
   "metadata": {
    "collapsed": false
   },
   "outputs": [
    {
     "data": {
      "image/png": "[encoded data removed]",
      "text/plain": [
       "<matplotlib.figure.Figure at 0x10d2fceb8>"
      ]
     },
     "metadata": {},
     "output_type": "display_data"
    }
   ],
   "source": [
    "import matplotlib.pyplot as plt\n",
    "plt.plot(range(len(nn.cost_)), nn.cost_)\n",
    "plt.ylim([0,2000])\n",
    "plt.ylabel('Cost')\n",
    "plt.xlabel('Epochs * 50')\n",
    "plt.show()"
   ]
  },
  {
   "cell_type": "code",
   "execution_count": 15,
   "metadata": {
    "collapsed": false
   },
   "outputs": [
    {
     "data": {
      "image/png": "[encoded data removed]",
      "text/plain": [
       "<matplotlib.figure.Figure at 0x115e456a0>"
      ]
     },
     "metadata": {},
     "output_type": "display_data"
    }
   ],
   "source": [
    "batches = np.array_split(range(len(nn.cost_)), 1000)\n",
    "cost_ary = np.array(nn.cost_)\n",
    "#各ミニバッチごとに平均をとる\n",
    "cost_avgs = [np.mean(cost_ary[i]) for i in batches]\n",
    "plt.plot(range(len(cost_avgs)), cost_avgs, color='red')\n",
    "plt.ylim([0, 2000])\n",
    "plt.ylabel('Cost')\n",
    "plt.xlabel('Epochs')\n",
    "plt.show()"
   ]
  },
  {
   "cell_type": "code",
   "execution_count": 20,
   "metadata": {
    "collapsed": false
   },
   "outputs": [
    {
     "data": {
      "text/plain": [
       "<Signature (y_true, y_pred, normalize=True, sample_weight=None)>"
      ]
     },
     "execution_count": 20,
     "metadata": {},
     "output_type": "execute_result"
    }
   ],
   "source": [
    "#関数の引数を調べる\n",
    "import inspect\n",
    "inspect.signature(accuracy_score)"
   ]
  },
  {
   "cell_type": "code",
   "execution_count": 21,
   "metadata": {
    "collapsed": false
   },
   "outputs": [
    {
     "name": "stdout",
     "output_type": "stream",
     "text": [
      "Training accuracy 97.59%\n"
     ]
    }
   ],
   "source": [
    "#予測の正解率\n",
    "from sklearn.metrics import accuracy_score\n",
    "y_train_pred = nn.predict(X_train)\n",
    "acc = accuracy_score(y_true=y_train, y_pred=y_train_pred)\n",
    "print('Training accuracy %.2f%%' % (acc*100))"
   ]
  },
  {
   "cell_type": "code",
   "execution_count": 22,
   "metadata": {
    "collapsed": false
   },
   "outputs": [
    {
     "name": "stdout",
     "output_type": "stream",
     "text": [
      "Test accuracy 95.62%\n"
     ]
    }
   ],
   "source": [
    "y_test_pred = nn.predict(X_test)\n",
    "acc = accuracy_score(y_true=y_test, y_pred=y_test_pred)\n",
    "print('Test accuracy %.2f%%' % (acc*100))"
   ]
  },
  {
   "cell_type": "code",
   "execution_count": 24,
   "metadata": {
    "collapsed": false,
    "scrolled": true
   },
   "outputs": [
    {
     "data": {
      "image/png": "[encoded data removed]",
      "text/plain": [
       "<matplotlib.figure.Figure at 0x114b68c50>"
      ]
     },
     "metadata": {},
     "output_type": "display_data"
    }
   ],
   "source": [
    "miscl_img = X_test[y_test != y_test_pred][:25]\n",
    "correct_lab = y_test[y_test != y_test_pred][:25]\n",
    "miscl_lab = y_test_pred[y_test != y_test_pred][:25]\n",
    "fig, ax =plt.subplots(nrows=5, ncols=5, sharex=True, sharey=True)\n",
    "ax = ax.flatten()\n",
    "for i in range(25):\n",
    "    img = miscl_img[i].reshape(28,28)\n",
    "    ax[i].imshow(img, cmap='Greys', interpolation='nearest')\n",
    "    ax[i].set_title('%d) t: %d p: %d' % (i+1, correct_lab[i], miscl_lab[i]))\n",
    "    \n",
    "ax[0].set_xticks([])\n",
    "ax[0].set_yticks([])\n",
    "plt.tight_layout()\n",
    "plt.show()"
   ]
  },
  {
   "cell_type": "markdown",
   "metadata": {
    "collapsed": true
   },
   "source": [
    "人工ニューラルネットワークをトレーニングする"
   ]
  },
  {
   "cell_type": "code",
   "execution_count": 7,
   "metadata": {
    "collapsed": false
   },
   "outputs": [
    {
     "data": {
      "text/plain": [
       "array([[-0.16364874,  0.0607056 , -0.13773256, ..., -0.04950708,\n",
       "         0.13293984,  0.03755618],\n",
       "       [-0.27338799,  0.09849704,  0.03294951, ...,  0.06666115,\n",
       "        -0.06618415,  0.02238262],\n",
       "       [ 0.89842764, -0.1155141 , -0.11474805, ..., -0.06080346,\n",
       "         0.1145863 , -0.0831455 ],\n",
       "       ..., \n",
       "       [ 0.75884229, -0.12801924,  0.0704399 , ...,  0.01144414,\n",
       "        -0.11315398, -0.01738838],\n",
       "       [-0.99445684, -0.00631891, -0.08910169, ..., -0.02578472,\n",
       "         0.09995762,  0.00688711],\n",
       "       [-0.35976493, -0.09559508,  0.09533742, ...,  0.09513292,\n",
       "        -0.07255643, -0.11773501]])"
      ]
     },
     "execution_count": 7,
     "metadata": {},
     "output_type": "execute_result"
    }
   ],
   "source": [
    "nn.w1"
   ]
  },
  {
   "cell_type": "code",
   "execution_count": 31,
   "metadata": {
    "collapsed": true
   },
   "outputs": [],
   "source": [
    "def _get_gradient(a1, a2, a3, z2, y_enc, w1, w2):\n",
    "        #バックプロバゲーション\n",
    "        sigma3 = a3 - y_enc\n",
    "        z2 = _add_bias_unit(z2, how='row')\n",
    "        sigma2 = w2.T.dot(sigma3) * _sigmoid_gradient(z2)\n",
    "        sigma2 = sigma2[1:, :]\n",
    "        grad1 = sigma2.dot(a1)\n",
    "        grad2 = sigma3.dot(a2.T)\n",
    "        #正則化\n",
    "        grad1[:, 1:] += (w1[:, 1:]*(nn.l1 + nn.l2))\n",
    "        grad2[:, 1:] += (w2[:, 1:]*(nn.l1 + nn.l2))\n",
    "        return grad1, grad2, sigma3, sigma2"
   ]
  },
  {
   "cell_type": "code",
   "execution_count": 45,
   "metadata": {
    "collapsed": false
   },
   "outputs": [],
   "source": [
    "sigma3 = a3 - y_enc\n",
    "\"\"\"z2 = _add_bias_unit(z2, how='row')\n",
    "sigma2 = nn.w2.T.dot(sigma3) * _sigmoid_gradient(z2)\n",
    "sigma2 = sigma2[1:, :]\n",
    "grad1 = sigma2.dot(a1)\"\"\"\n",
    "grad2 = sigma3.dot(a2.T)"
   ]
  },
  {
   "cell_type": "code",
   "execution_count": 47,
   "metadata": {
    "collapsed": false
   },
   "outputs": [
    {
     "data": {
      "text/plain": [
       "(10, 100)"
      ]
     },
     "execution_count": 47,
     "metadata": {},
     "output_type": "execute_result"
    }
   ],
   "source": [
    "sigma3.shape"
   ]
  },
  {
   "cell_type": "code",
   "execution_count": 48,
   "metadata": {
    "collapsed": false
   },
   "outputs": [
    {
     "data": {
      "text/plain": [
       "(51, 100)"
      ]
     },
     "execution_count": 48,
     "metadata": {},
     "output_type": "execute_result"
    }
   ],
   "source": [
    "a2.shape"
   ]
  },
  {
   "cell_type": "code",
   "execution_count": 46,
   "metadata": {
    "collapsed": false,
    "scrolled": true
   },
   "outputs": [
    {
     "data": {
      "text/plain": [
       "(10, 51)"
      ]
     },
     "execution_count": 46,
     "metadata": {},
     "output_type": "execute_result"
    }
   ],
   "source": [
    "grad2.shape"
   ]
  },
  {
   "cell_type": "code",
   "execution_count": 35,
   "metadata": {
    "collapsed": false
   },
   "outputs": [
    {
     "ename": "NameError",
     "evalue": "name 'grad2' is not defined",
     "output_type": "error",
     "traceback": [
      "\u001b[0;31m---------------------------------------------------------------------------\u001b[0m",
      "\u001b[0;31mNameError\u001b[0m                                 Traceback (most recent call last)",
      "\u001b[0;32m<ipython-input-35-e8849319dc7f>\u001b[0m in \u001b[0;36m<module>\u001b[0;34m()\u001b[0m\n\u001b[0;32m----> 1\u001b[0;31m \u001b[0mgrad2\u001b[0m\u001b[0;34m.\u001b[0m\u001b[0mshape\u001b[0m\u001b[0;34m\u001b[0m\u001b[0m\n\u001b[0m",
      "\u001b[0;31mNameError\u001b[0m: name 'grad2' is not defined"
     ]
    }
   ],
   "source": [
    "grad2.shape"
   ]
  },
  {
   "cell_type": "code",
   "execution_count": 34,
   "metadata": {
    "collapsed": false,
    "scrolled": true
   },
   "outputs": [
    {
     "ename": "ValueError",
     "evalue": "operands could not be broadcast together with shapes (51,100) (53,100) ",
     "output_type": "error",
     "traceback": [
      "\u001b[0;31m---------------------------------------------------------------------------\u001b[0m",
      "\u001b[0;31mValueError\u001b[0m                                Traceback (most recent call last)",
      "\u001b[0;32m<ipython-input-34-60c43857fea7>\u001b[0m in \u001b[0;36m<module>\u001b[0;34m()\u001b[0m\n\u001b[1;32m      1\u001b[0m \u001b[0;31m#バックプロバゲーションによる勾配の計算\u001b[0m\u001b[0;34m\u001b[0m\u001b[0;34m\u001b[0m\u001b[0m\n\u001b[1;32m      2\u001b[0m grad1, grad2, sigma3, sigma2 = _get_gradient(a1=a1, a2=a2, a3=a3, z2=z2, y_enc=y_enc,\n\u001b[0;32m----> 3\u001b[0;31m                                                  w1 = nn.w1, w2 = nn.w2)\n\u001b[0m",
      "\u001b[0;32m<ipython-input-31-cb1cb3f76070>\u001b[0m in \u001b[0;36m_get_gradient\u001b[0;34m(a1, a2, a3, z2, y_enc, w1, w2)\u001b[0m\n\u001b[1;32m      3\u001b[0m         \u001b[0msigma3\u001b[0m \u001b[0;34m=\u001b[0m \u001b[0ma3\u001b[0m \u001b[0;34m-\u001b[0m \u001b[0my_enc\u001b[0m\u001b[0;34m\u001b[0m\u001b[0m\n\u001b[1;32m      4\u001b[0m         \u001b[0mz2\u001b[0m \u001b[0;34m=\u001b[0m \u001b[0m_add_bias_unit\u001b[0m\u001b[0;34m(\u001b[0m\u001b[0mz2\u001b[0m\u001b[0;34m,\u001b[0m \u001b[0mhow\u001b[0m\u001b[0;34m=\u001b[0m\u001b[0;34m'row'\u001b[0m\u001b[0;34m)\u001b[0m\u001b[0;34m\u001b[0m\u001b[0m\n\u001b[0;32m----> 5\u001b[0;31m         \u001b[0msigma2\u001b[0m \u001b[0;34m=\u001b[0m \u001b[0mw2\u001b[0m\u001b[0;34m.\u001b[0m\u001b[0mT\u001b[0m\u001b[0;34m.\u001b[0m\u001b[0mdot\u001b[0m\u001b[0;34m(\u001b[0m\u001b[0msigma3\u001b[0m\u001b[0;34m)\u001b[0m \u001b[0;34m*\u001b[0m \u001b[0m_sigmoid_gradient\u001b[0m\u001b[0;34m(\u001b[0m\u001b[0mz2\u001b[0m\u001b[0;34m)\u001b[0m\u001b[0;34m\u001b[0m\u001b[0m\n\u001b[0m\u001b[1;32m      6\u001b[0m         \u001b[0msigma2\u001b[0m \u001b[0;34m=\u001b[0m \u001b[0msigma2\u001b[0m\u001b[0;34m[\u001b[0m\u001b[0;36m1\u001b[0m\u001b[0;34m:\u001b[0m\u001b[0;34m,\u001b[0m \u001b[0;34m:\u001b[0m\u001b[0;34m]\u001b[0m\u001b[0;34m\u001b[0m\u001b[0m\n\u001b[1;32m      7\u001b[0m         \u001b[0mgrad1\u001b[0m \u001b[0;34m=\u001b[0m \u001b[0msigma2\u001b[0m\u001b[0;34m.\u001b[0m\u001b[0mdot\u001b[0m\u001b[0;34m(\u001b[0m\u001b[0ma1\u001b[0m\u001b[0;34m)\u001b[0m\u001b[0;34m\u001b[0m\u001b[0m\n",
      "\u001b[0;31mValueError\u001b[0m: operands could not be broadcast together with shapes (51,100) (53,100) "
     ]
    }
   ],
   "source": [
    "#バックプロバゲーションによる勾配の計算\n",
    "grad1, grad2, sigma3, sigma2 = _get_gradient(a1=a1, a2=a2, a3=a3, z2=z2, y_enc=y_enc,\n",
    "                                                 w1 = nn.w1, w2 = nn.w2)"
   ]
  },
  {
   "cell_type": "code",
   "execution_count": 13,
   "metadata": {
    "collapsed": true
   },
   "outputs": [],
   "source": [
    "def feedforward(X, w1, w2):\n",
    "    #一層目\n",
    "    a1 = _add_bias_unit(X, how='column')\n",
    "        #二層目\n",
    "    z2 = w1.dot(a1.T)\n",
    "    a2 = sigmoid(z2)\n",
    "    a2 = _add_bias_unit(a2, how='row')\n",
    "    #三層目\n",
    "    z3 = w2.dot(a2)\n",
    "    a3 = sigmoid(z3)\n",
    "    return a1, z2, a2, z3, a3\n",
    "    "
   ]
  },
  {
   "cell_type": "code",
   "execution_count": 11,
   "metadata": {
    "collapsed": true
   },
   "outputs": [],
   "source": [
    "def _add_bias_unit(X, how='column'):\n",
    "    \n",
    "    if how == 'column':\n",
    "        X_new = np.ones((X.shape[0], X.shape[1] + 1))\n",
    "        X_new[:, 1:] = X\n",
    "    elif how == 'row':\n",
    "        X_new = np.ones((X.shape[0] + 1, X.shape[1]))\n",
    "        X_new[1:, :] = X\n",
    "    else:\n",
    "        raise AttributeError('`how` must be `column` or `row`')\n",
    "    return X_new"
   ]
  },
  {
   "cell_type": "code",
   "execution_count": 10,
   "metadata": {
    "collapsed": true
   },
   "outputs": [],
   "source": [
    "import numpy as np\n",
    "from scipy.special import expit\n",
    "import sys\n",
    "from sklearn.base import BaseEstimator\n",
    "def sigmoid(z):\n",
    "    return expit(z) #expitは1.0/(1.0 + np.exp(-z))に等しい"
   ]
  },
  {
   "cell_type": "code",
   "execution_count": 12,
   "metadata": {
    "collapsed": true
   },
   "outputs": [],
   "source": [
    "def _sigmoid_gradient(z):\n",
    "    sg = sigmoid(z)\n",
    "    return sg * (1.0 - sg)"
   ]
  },
  {
   "cell_type": "code",
   "execution_count": 44,
   "metadata": {
    "collapsed": false
   },
   "outputs": [],
   "source": [
    "a1, z2, a2, z3, a3 = feedforward(X_train[:100], nn.w1, nn.w2)"
   ]
  },
  {
   "cell_type": "code",
   "execution_count": 21,
   "metadata": {
    "collapsed": false
   },
   "outputs": [
    {
     "name": "stdout",
     "output_type": "stream",
     "text": [
      "[(100, 785), (50, 100), (51, 100), (10, 100), (10, 100)]\n"
     ]
    }
   ],
   "source": [
    "print([i.shape for i in [a1, z2, a2, z3, a3]])"
   ]
  },
  {
   "cell_type": "code",
   "execution_count": 18,
   "metadata": {
    "collapsed": false
   },
   "outputs": [
    {
     "data": {
      "text/plain": [
       "(100, 784)"
      ]
     },
     "execution_count": 18,
     "metadata": {},
     "output_type": "execute_result"
    }
   ],
   "source": [
    "X_train[:100].shape"
   ]
  },
  {
   "cell_type": "code",
   "execution_count": 23,
   "metadata": {
    "collapsed": false
   },
   "outputs": [
    {
     "data": {
      "text/plain": [
       "(50, 785)"
      ]
     },
     "execution_count": 23,
     "metadata": {},
     "output_type": "execute_result"
    }
   ],
   "source": [
    "nn.w1.shape"
   ]
  },
  {
   "cell_type": "code",
   "execution_count": 38,
   "metadata": {
    "collapsed": true
   },
   "outputs": [],
   "source": [
    "def _encode_labels(y, k):\n",
    "    onehot = np.zeros((k, y.shape[0]))\n",
    "    for idx, val in enumerate(y):\n",
    "        onehot[val, idx] = 1.0\n",
    "    return onehot\n",
    "y_enc = _encode_labels(y_train[:100], 10)"
   ]
  },
  {
   "cell_type": "code",
   "execution_count": 16,
   "metadata": {
    "collapsed": false,
    "scrolled": true
   },
   "outputs": [
    {
     "name": "stdout",
     "output_type": "stream",
     "text": [
      "Ok: 2.55068505986e-10\n",
      "Ok: 2.93547837023e-10\n",
      "Ok: 2.37449571314e-10\n",
      "Ok: 3.08194323691e-10\n",
      "Ok: 3.38249440642e-10\n",
      "Ok: 3.57890221135e-10\n",
      "Ok: 2.19231256383e-10\n",
      "Ok: 2.36583740198e-10\n",
      "Ok: 3.43584860701e-10\n",
      "Ok: 2.13345208113e-10\n"
     ]
    },
    {
     "data": {
      "text/plain": [
       "MLPGradientCheck(alpha=0.0, decrease_const=0.0, epochs=10, eta=0.001, l1=0.0,\n",
       "         l2=0.0, minibatches=1, n_features=784, n_hidden=10, n_output=10,\n",
       "         random_state=None, shuffle=False)"
      ]
     },
     "execution_count": 16,
     "metadata": {},
     "output_type": "execute_result"
    }
   ],
   "source": [
    "from neuralnet_add import MLPGradientCheck\n",
    "nn_check = MLPGradientCheck(n_output=10,n_features=X_train.shape[1], n_hidden=10, l2=0.0, l1=0.0, epochs=10,\n",
    "                 eta = 0.001, alpha=0.0, decrease_const= 0.0, shuffle = False, minibatches=1, random_state=1)\n",
    "nn_check.fit(X_train[:5], y_train[:5], print_progress=False)"
   ]
  },
  {
   "cell_type": "code",
   "execution_count": 17,
   "metadata": {
    "collapsed": true
   },
   "outputs": [],
   "source": [
    "#数値勾配と解析的勾配の列ベクトル化\n",
    "num_grad = np.hstack(([1,1],[2,2]))\n",
    "grad = np.hstack(([3,3],[4,4]))\n",
    "#数値勾配と解析的勾配の差のノルム\n",
    "norm1= np.linalg.norm(num_grad - grad)\n",
    "#数値勾配のノルム\n",
    "norm2= np.linalg.norm(num_grad)\n",
    "#解析的勾配のノルム\n",
    "norm3= np.linalg.norm(grad)\n",
    "#相対誤差を計算\n",
    "relative_error = norm1 / (norm2 + norm3)\n",
    "    "
   ]
  },
  {
   "cell_type": "code",
   "execution_count": 18,
   "metadata": {
    "collapsed": false
   },
   "outputs": [
    {
     "data": {
      "text/plain": [
       "3.1622776601683795"
      ]
     },
     "execution_count": 18,
     "metadata": {},
     "output_type": "execute_result"
    }
   ],
   "source": [
    "norm2"
   ]
  },
  {
   "cell_type": "code",
   "execution_count": 21,
   "metadata": {
    "collapsed": false
   },
   "outputs": [
    {
     "data": {
      "text/plain": [
       "3.1622776601683795"
      ]
     },
     "execution_count": 21,
     "metadata": {},
     "output_type": "execute_result"
    }
   ],
   "source": [
    "(np.sum(num_grad**2))**0.5"
   ]
  },
  {
   "cell_type": "code",
   "execution_count": 22,
   "metadata": {
    "collapsed": false
   },
   "outputs": [
    {
     "data": {
      "text/plain": [
       "0.39087901516970958"
      ]
     },
     "execution_count": 22,
     "metadata": {},
     "output_type": "execute_result"
    }
   ],
   "source": [
    "relative_error"
   ]
  },
  {
   "cell_type": "code",
   "execution_count": 23,
   "metadata": {
    "collapsed": false
   },
   "outputs": [
    {
     "data": {
      "text/plain": [
       "4.0"
      ]
     },
     "execution_count": 23,
     "metadata": {},
     "output_type": "execute_result"
    }
   ],
   "source": [
    "norm1"
   ]
  },
  {
   "cell_type": "code",
   "execution_count": 13,
   "metadata": {
    "collapsed": false
   },
   "outputs": [
    {
     "data": {
      "text/plain": [
       "array([[1, 2],\n",
       "       [3, 4]])"
      ]
     },
     "execution_count": 13,
     "metadata": {},
     "output_type": "execute_result"
    }
   ],
   "source": [
    "np.array([1,2,3,4]).reshape(2,2)"
   ]
  },
  {
   "cell_type": "code",
   "execution_count": null,
   "metadata": {
    "collapsed": true
   },
   "outputs": [],
   "source": []
  }
 ],
 "metadata": {
  "kernelspec": {
   "display_name": "Python 3",
   "language": "python",
   "name": "python3"
  },
  "language_info": {
   "codemirror_mode": {
    "name": "ipython",
    "version": 3
   },
   "file_extension": ".py",
   "mimetype": "text/x-python",
   "name": "python",
   "nbconvert_exporter": "python",
   "pygments_lexer": "ipython3",
   "version": "3.5.1"
  }
 },
 "nbformat": 4,
 "nbformat_minor": 0
}
