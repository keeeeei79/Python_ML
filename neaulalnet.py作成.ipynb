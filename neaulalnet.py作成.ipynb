{
 "cells": [
  {
   "cell_type": "code",
   "execution_count": 1,
   "metadata": {
    "collapsed": true
   },
   "outputs": [],
   "source": [
    "import os\n",
    "import struct\n",
    "import numpy as np"
   ]
  },
  {
   "cell_type": "code",
   "execution_count": 62,
   "metadata": {
    "collapsed": true
   },
   "outputs": [],
   "source": [
    "def load_mnist(path, kind='train'):\n",
    "    \"\"\"MNISTデータをpathからロード\"\"\"\n",
    "    #引数を指定したパスを結合(ラベルや画像のパスを作成)\n",
    "    labels_path = os.path.join(path, '%s-labels-idx1-ubyte' %kind)\n",
    "    images_path = os.path.join(path, '%s-images-idx3-ubyte' %kind)\n",
    "    \n",
    "    #ファイルを読み込む:\n",
    "    #引数にファイル、モードを指定\n",
    "    with open(labels_path, 'rb') as lbpath:\n",
    "        #バイナリーを文字列に変換: unpack関数の引数にフォーマット、８バイト分のバイナリーデータを指定してマジックナンバー、アイテムの個数を読み込む\n",
    "        magic, n = struct.unpack('>II', lbpath.read(8))\n",
    "        #ファイルからラベルを読み込み、配列を構築: fromfile関数の引数にファイル、配列のデータ形式を指定\n",
    "        labels = np.fromfile(lbpath, dtype=np.uint8)\n",
    "        \n",
    "    with open(images_path, 'rb') as imgpath:\n",
    "        magic, num, rows, cols = struct.unpack(\">IIII\", imgpath.read(16))\n",
    "        #画像ピクセル情報の配列のサイズを変更\n",
    "        # (行数:ラベルのサイズ, 列数:特徴量の個数)\n",
    "        images = np.fromfile(imgpath, dtype=np.uint8).reshape(len(labels), 784)\n",
    "        \n",
    "    return images, labels"
   ]
  },
  {
   "cell_type": "code",
   "execution_count": 63,
   "metadata": {
    "collapsed": false
   },
   "outputs": [
    {
     "name": "stdout",
     "output_type": "stream",
     "text": [
      "Rows: 60000, columns: 784\n",
      "Rows: 10000, columns: 784\n"
     ]
    }
   ],
   "source": [
    "X_train, y_train = load_mnist('/Users/keeeeei/Desktop/データ分析/Python機械学習プログラミング/mnist', kind='train')\n",
    "print('Rows: %d, columns: %d' %(X_train.shape[0], X_train.shape[1]))\n",
    "X_test, y_test = load_mnist('/Users/keeeeei/Desktop/データ分析/Python機械学習プログラミング/mnist', kind='t10k')\n",
    "print('Rows: %d, columns: %d' %(X_test.shape[0], X_test.shape[1]))"
   ]
  },
  {
   "cell_type": "code",
   "execution_count": 85,
   "metadata": {
    "collapsed": false
   },
   "outputs": [
    {
     "name": "stderr",
     "output_type": "stream",
     "text": [
      "Epoch: 1000/1000"
     ]
    },
    {
     "data": {
      "text/plain": [
       "<__main__.NeuralNetMLP at 0x10dd6fe10>"
      ]
     },
     "execution_count": 85,
     "metadata": {},
     "output_type": "execute_result"
    }
   ],
   "source": [
    "#from neuralnet import NeuralNetMLP\n",
    "\n",
    "nn = NeuralNetMLP(n_output=10,n_features=X_train.shape[1], n_hidden=50, l2=0.1, l1=0.0, epochs=1000,\n",
    "                 eta = 0.001, alpha=0.001, decrease_const= 0.00001, shuffle = True, minibatches=50, random_state=1)\n",
    "\n",
    "nn.fit(X_train[:1], y_train[:1], print_progress=True)"
   ]
  },
  {
   "cell_type": "code",
   "execution_count": 19,
   "metadata": {
    "collapsed": false
   },
   "outputs": [],
   "source": [
    "import numpy as np\n",
    "w1 = np.random.uniform(-1.0, 1.0, size=15)"
   ]
  },
  {
   "cell_type": "code",
   "execution_count": 20,
   "metadata": {
    "collapsed": false
   },
   "outputs": [
    {
     "data": {
      "text/plain": [
       "array([-0.84526328,  0.66140594, -0.07496311, -0.69049485,  0.05912428,\n",
       "        0.75560603, -0.53870856,  0.72458501,  0.87390448,  0.63271174,\n",
       "        0.51436168, -0.64138262, -0.46231265,  0.75734626, -0.96556531])"
      ]
     },
     "execution_count": 20,
     "metadata": {},
     "output_type": "execute_result"
    }
   ],
   "source": [
    "w1"
   ]
  },
  {
   "cell_type": "code",
   "execution_count": 21,
   "metadata": {
    "collapsed": false
   },
   "outputs": [
    {
     "data": {
      "text/plain": [
       "array([[-0.84526328,  0.66140594, -0.07496311],\n",
       "       [-0.69049485,  0.05912428,  0.75560603],\n",
       "       [-0.53870856,  0.72458501,  0.87390448],\n",
       "       [ 0.63271174,  0.51436168, -0.64138262],\n",
       "       [-0.46231265,  0.75734626, -0.96556531]])"
      ]
     },
     "execution_count": 21,
     "metadata": {},
     "output_type": "execute_result"
    }
   ],
   "source": [
    "w2 = w1.reshape(5,3)\n",
    "w2"
   ]
  },
  {
   "cell_type": "code",
   "execution_count": 10,
   "metadata": {
    "collapsed": false,
    "scrolled": true
   },
   "outputs": [
    {
     "data": {
      "text/plain": [
       "-0.26207093800193548"
      ]
     },
     "execution_count": 10,
     "metadata": {},
     "output_type": "execute_result"
    }
   ],
   "source": [
    "np.sum(w2)"
   ]
  },
  {
   "cell_type": "code",
   "execution_count": 11,
   "metadata": {
    "collapsed": false
   },
   "outputs": [
    {
     "data": {
      "text/plain": [
       "array([[ 0.55945307,  0.45786468,  0.13178699],\n",
       "       [ 0.01638115,  0.29695483,  0.84094119],\n",
       "       [ 0.63724769,  0.56456009,  0.7393746 ],\n",
       "       [ 0.08194493,  0.56998799,  0.71278471],\n",
       "       [ 0.16426284,  0.64743965,  0.33123289]])"
      ]
     },
     "execution_count": 11,
     "metadata": {},
     "output_type": "execute_result"
    }
   ],
   "source": [
    "np.abs(w2)"
   ]
  },
  {
   "cell_type": "code",
   "execution_count": 18,
   "metadata": {
    "collapsed": false,
    "scrolled": true
   },
   "outputs": [
    {
     "data": {
      "text/plain": [
       "array([1, 1, 4])"
      ]
     },
     "execution_count": 18,
     "metadata": {},
     "output_type": "execute_result"
    }
   ],
   "source": [
    "np.argmax(w2, axis=0)"
   ]
  },
  {
   "cell_type": "code",
   "execution_count": 24,
   "metadata": {
    "collapsed": false
   },
   "outputs": [
    {
     "data": {
      "text/plain": [
       "[array([-0.84526328,  0.66140594, -0.07496311]),\n",
       " array([-0.69049485,  0.05912428,  0.75560603]),\n",
       " array([-0.53870856,  0.72458501,  0.87390448]),\n",
       " array([ 0.63271174,  0.51436168]),\n",
       " array([-0.64138262, -0.46231265]),\n",
       " array([ 0.75734626, -0.96556531])]"
      ]
     },
     "execution_count": 24,
     "metadata": {},
     "output_type": "execute_result"
    }
   ],
   "source": [
    "np.array_split(w1, 6)"
   ]
  },
  {
   "cell_type": "code",
   "execution_count": 26,
   "metadata": {
    "collapsed": false
   },
   "outputs": [
    {
     "data": {
      "text/plain": [
       "[array([0, 1, 2, 3]), array([4, 5, 6]), array([7, 8, 9])]"
      ]
     },
     "execution_count": 26,
     "metadata": {},
     "output_type": "execute_result"
    }
   ],
   "source": [
    "m = np.array_split(range(10), 3)\n",
    "m"
   ]
  },
  {
   "cell_type": "code",
   "execution_count": 27,
   "metadata": {
    "collapsed": false
   },
   "outputs": [
    {
     "name": "stdout",
     "output_type": "stream",
     "text": [
      "[0 1 2 3]\n",
      "[4 5 6]\n",
      "[7 8 9]\n"
     ]
    }
   ],
   "source": [
    "for mini in m:\n",
    "    print(mini)"
   ]
  },
  {
   "cell_type": "code",
   "execution_count": 86,
   "metadata": {
    "collapsed": true
   },
   "outputs": [],
   "source": [
    "#このコードでいける"
   ]
  },
  {
   "cell_type": "code",
   "execution_count": 20,
   "metadata": {
    "collapsed": false
   },
   "outputs": [
    {
     "name": "stdout",
     "output_type": "stream",
     "text": [
      "Overwriting neuralnet_add.py\n"
     ]
    }
   ],
   "source": [
    "%%writefile neuralnet_add.py\n",
    "import numpy as np\n",
    "from scipy.special import expit\n",
    "import sys\n",
    "from sklearn.base import BaseEstimator\n",
    "\n",
    "\n",
    "class MLPGradientCheck(BaseEstimator):\n",
    "    \n",
    "    \n",
    "    #NeauralNetMLPの初期化\n",
    "    #l1とl2は正則化パラメータλ\n",
    "    def __init__(self, n_output, n_features, n_hidden=30, l1=0.0, l2=0.0, epochs=500, eta=0.001,\n",
    "                            alpha=0.0, decrease_const=0.0, shuffle=True, minibatches=1, random_state=None):\n",
    "        np.random.seed(random_state)\n",
    "        self.n_output = n_output\n",
    "        self.n_features = n_features\n",
    "        self.n_hidden = n_hidden\n",
    "        self.w1, self.w2 = self._initialize_weights()\n",
    "        self.l1 = l1 #正則化パラメータλの大きさ\n",
    "        self.l2 = l2 #正則化パラメータλの大きさ\n",
    "        self.epochs = epochs\n",
    "        self.eta = eta #学習率\n",
    "        self.alpha = alpha #モーメンタム学習の一つ手前の勾配係数(偏微分係数)\n",
    "        self.decrease_const = decrease_const #適応学習率の減少定数\n",
    "        self.shuffle = shuffle # データのシャッフル\n",
    "        self.minibatches = minibatches #各エポックでのミニバッチ数\n",
    "        \n",
    "    #ラベルのエンコード\n",
    "    #出力層×サンプル数の行列を作って\n",
    "    #各列がサンプルを表しone of k になるようにする(ダミー変数のようなもの)\n",
    "    def _encode_labels(self, y, k):\n",
    "        onehot = np.zeros((k, y.shape[0]))\n",
    "        for idx, val in enumerate(y):\n",
    "            onehot[val, idx] = 1.0\n",
    "        return onehot\n",
    "    \n",
    "    #重みの初期化\n",
    "    def _initialize_weights(self):\n",
    "        #-1から1の間の一様分布からランダムに抽出\n",
    "        #これは隠れ層\n",
    "        w1 = np.random.uniform(-1.0, 1.0, size=self.n_hidden*(self.n_features +1))\n",
    "        w1 = w1.reshape(self.n_hidden, self.n_features + 1)\n",
    "        #ここから出力層\n",
    "        w2 = np.random.uniform(-1.0,1.0, size=self.n_output*(self.n_hidden +1))\n",
    "        w2 = w2.reshape(self.n_output, self.n_hidden+1)\n",
    "        return w1, w2\n",
    "    \n",
    "    #シグモイド関数\n",
    "    def _sigmoid(self, z):\n",
    "        return expit(z) #expitは1.0/(1.0 + np.exp(-z))に等しい\n",
    "    \n",
    "    #シグモイド関数の勾配(偏微分係数)要するに1.0/(1.0 + np.exp(-z))を微分したもの\n",
    "    def _sigmoid_gradient(self, z):\n",
    "        sg = self._sigmoid(z)\n",
    "        return sg * (1.0 - sg)\n",
    "    \n",
    "    #バイアスユニットの追加(各入力特徴量の一番目)\n",
    "    def _add_bias_unit(self, X, how='column'):\n",
    "        if how == 'column':\n",
    "            X_new = np.ones((X.shape[0], X.shape[1] + 1))\n",
    "            X_new[:, 1:] = X\n",
    "        elif how == 'row':\n",
    "            X_new = np.ones((X.shape[0] + 1, X.shape[1]))\n",
    "            X_new[1:, :] = X\n",
    "        else:\n",
    "            raise AttributeError('`how` must be `column` or `row`')\n",
    "        return X_new\n",
    "    \n",
    "    # フィードフォワード\n",
    "    def _feedforward(self, X, w1, w2):\n",
    "        #一層目\n",
    "        a1 = self._add_bias_unit(X, how='column')\n",
    "        #二層目\n",
    "        z2 = w1.dot(a1.T)\n",
    "        a2 = self._sigmoid(z2)\n",
    "        a2 = self._add_bias_unit(a2, how='row')\n",
    "        #三層目\n",
    "        z3 = w2.dot(a2)\n",
    "        a3 = self._sigmoid(z3)\n",
    "        return a1, z2, a2, z3, a3\n",
    "    \n",
    "    #L2ペナルティ項の係数\n",
    "    #lambdaは正則化パラメータ\n",
    "    def _L2_reg(self, lambda_, w1, w2):\n",
    "        #1列目はバイアスユニットなので正則化しない\n",
    "        return (lambda_/2.0) * (np.sum(w1[:, 1:]**2) + np.sum(w2[:, 1:]**2))\n",
    "    \n",
    "    #L1ペナルティ項の係数\n",
    "    def _L1_reg(self, lambda_, w1, w2):\n",
    "        #1列目はバイアスユニットなので正則化しない\n",
    "        return (lambda_/2.0)*(np.abs(w1[:, 1:]).sum() + np.abs(w2[:, 1:]).sum())\n",
    "    \n",
    "    #ロジスティック関数\n",
    "    #コストを得る\n",
    "    #y_encは正解データをy_encに変換したもの\n",
    "    #outputはa3\n",
    "    def _get_cost(self, y_enc, output, w1,w2):\n",
    "        #最初のcostはロジスティック関数のコスト関数(対数尤度関数)p58\n",
    "        term1 = -y_enc * (np.log(output))\n",
    "        term2 = (1.0 - y_enc) * np.log(1.0 - output)\n",
    "        cost = np.sum(term1 - term2)\n",
    "        L1_term = self._L1_reg(self.l1, w1, w2)\n",
    "        L2_term = self._L2_reg(self.l2, w1, w2)\n",
    "        cost = cost + L1_term + L2_term\n",
    "        return cost\n",
    "\n",
    "    def _get_gradient(self, a1, a2, a3, z2, y_enc, w1, w2):\n",
    "        #バックプロバゲーション\n",
    "        #シグマは各層のコスト関数を総入力zで微分したもの(誤差項)※ここでは正則化項は関係ない\n",
    "        sigma3 = a3 - y_enc\n",
    "        z2 = self._add_bias_unit(z2, how='row')\n",
    "        sigma2 = w2.T.dot(sigma3) * self._sigmoid_gradient(z2)\n",
    "        sigma2 = sigma2[1:, :]\n",
    "        #gradはコスト関数の偏微分係数(コスト関数をWで微分したもの)\n",
    "        grad1 = sigma2.dot(a1)\n",
    "        grad2 = sigma3.dot(a2.T)\n",
    "        #正則化\n",
    "        grad1[:, 1:] += (w1[:, 1:]*(self.l1 + self.l2))\n",
    "        grad2[:, 1:] += (w2[:, 1:]*(self.l1 + self.l2))\n",
    "        return grad1, grad2\n",
    "    \n",
    "    #フィードフォワードにによる予測\n",
    "    def predict(self, X):\n",
    "        a1, z2, a2, z3, a3 = self._feedforward(X, self.w1, self.w2)\n",
    "        #np.argmaxは列ごとに一番大きな値のインデックスを返す\n",
    "        y_pred = np.argmax(z3, axis=0)\n",
    "        return y_pred\n",
    "    \n",
    "    #モデルをデータに適合させる\n",
    "    def fit(self, X, y, print_progress=False):\n",
    "        self.cost_ = []\n",
    "        X_data, y_data = X.copy(), y.copy()\n",
    "        y_enc = self._encode_labels(y, self.n_output) #yをonehotエンコーディング\n",
    "        delta_w1_prev = np.zeros(self.w1.shape) #一つ前の重みを初期化\n",
    "        delta_w2_prev = np.zeros(self.w2.shape) #一つ前の重みを初期化\n",
    "        for i in range(self.epochs):\n",
    "            #適応学習率\n",
    "            #適応学習率の減少定数を加味している\n",
    "            self.eta /= (1+self.decrease_const*i)\n",
    "            if print_progress:\n",
    "                sys.stderr.write('\\rEpoch: %d/%d' % (i+1, self.epochs))\n",
    "                #数字がフラッシュする\n",
    "                sys.stderr.flush()\n",
    "            if self.shuffle:\n",
    "                idx = np.random.permutation(y_data.shape[0])\n",
    "                #サンプルの順番入れ替えX_dataは行、y_encは列がサンプルになっていることに注意\n",
    "                X_data, y_enc = X_data[idx], y_enc[:, idx]\n",
    "            #array_split(配列, 何個に分けるか)\n",
    "            #y_data.shape[0]はサンプル数\n",
    "            mini = np.array_split(range(y_data.shape[0]), self.minibatches)\n",
    "            for idx in mini:\n",
    "                #フィードフォワード\n",
    "                #一回目はまだw1,w2は一様分布から抽出した乱数\n",
    "                a1, z2, a2, z3, a3 = self._feedforward(X_data[idx], self.w1, self.w2)\n",
    "                #コストを得る\n",
    "                #出力層の対数尤度関数*-1とw1,w2の両方のL1正則化とL2正則化を足したもの\n",
    "                cost = self._get_cost(y_enc=y_enc[:, idx], output=a3, w1 = self.w1, w2 = self.w2)\n",
    "                self.cost_.append(cost)\n",
    "                #バックプロバゲーションによる勾配の計算\n",
    "                #重みを更新するのに必要な変化率を求める\n",
    "                grad1, grad2 = self._get_gradient(a1=a1, a2=a2, a3=a3, z2=z2, y_enc=y_enc[:,idx],\n",
    "                                                 w1 = self.w1, w2 = self.w2)\n",
    "                \n",
    "                ##勾配チェックの始まり(gradがうまく計算できているか)\n",
    "                grad_diff = self._gradient_checking(X=X_data[idx], y_enc=y_enc[:, idx],\n",
    "                                                   w1= self.w1, w2= self.w2, epsilon=1e-5, grad1=grad1, grad2=grad2)\n",
    "                \n",
    "                if grad_diff<= 1e-7:\n",
    "                    print('Ok: %s' % grad_diff)\n",
    "                elif grad_diff<= 1e-4:\n",
    "                    print('Warning: %s' % grad_diff)\n",
    "                else :\n",
    "                    print('Problem: %s' % grad_diff)\n",
    "                    \n",
    "                ##勾配チェック終了\n",
    "                \n",
    "                #重みの更新\n",
    "                #delta_w1, delta_w2は入力層、中間層でのコスト関数の微分(ゼロにしたいもの且つ傾きであることに注意)に学習率をかけたもの\n",
    "                #傾きが+ならば-方向に重みを動かすことで大局的最小に向かう\n",
    "                delta_w1, delta_w2 = self.eta * grad1, self.eta*grad2\n",
    "                self.w1 -= (delta_w1 + (self.alpha*delta_w1_prev))\n",
    "                self.w2 -= (delta_w2 + (self.alpha*delta_w2_prev))\n",
    "                delta_w1_prev, delta_w2_prev = delta_w1, delta_w2\n",
    "                \n",
    "        return self\n",
    "    \n",
    "        def _gradient_checking(self, X, y_enc, w1, w2, epsilon, grad1, grad2):\n",
    "        \"\"\" 勾配チェックの適用(デバッグ専用)\n",
    "         \n",
    "        戻り値\n",
    "        ---------------\n",
    "        relative_error : float\n",
    "            数値的に近似された勾配とバックプロパゲーションによる勾配の間の相対誤差\n",
    "        \n",
    "        \"\"\"\n",
    "            \n",
    "            \n",
    "        #入力層を隠れ層に結合する重み行列w1から数値勾配を算出\n",
    "        num_grad1 = np.zeros(np.shape(w1))\n",
    "        epsilon_ary1 = np.zeros(np.shape(w1))\n",
    "        for i in range(w1.shape[0]):\n",
    "            for j in range(w1.shape[1]):\n",
    "                #w1と同じ大きさですべてイプシロンの行列を作る\n",
    "                epsilon_ary1[i, j] = epsilon\n",
    "                a1, z2, a2, z3, a3 = self._feedforward(X, w1 - epsilon_ary1, w2)\n",
    "                cost1 = self._get_cost(y_enc, a3,  w1 - epsilon_ary1, w2)\n",
    "                a1, z2, a2, z3, a3 = self._feedforward(X, w1 + epsilon_ary1, w2)\n",
    "                cost2 = self._get_cost(y_enc, a3,  w1 + epsilon_ary1, w2)\n",
    "                num_grad1[i, j] = (cost2 - cost1) / (2*epsilon)\n",
    "                epsilon_ary1[i, j] = 0\n",
    "        \n",
    "                \n",
    "        #入力層を隠れ層に結合する重み行列w2から数値勾配を算出\n",
    "        num_grad2 = np.zeros(np.shape(w2))\n",
    "        epsilon_ary2 = np.zeros(np.shape(w2))\n",
    "        for i in range(w2.shape[0]):\n",
    "            for j in range(w2.shape[1]):\n",
    "                #w1と同じ大きさですべてイプシロンの行列を作る\n",
    "                epsilon_ary2[i, j] = epsilon\n",
    "                a1, z2, a2, z3, a3 = self._feedforward(X, w1, w2 - epsilon_ary2)\n",
    "                cost1 = self._get_cost(y_enc, a3,  w1, w2 - epsilon_ary2)\n",
    "                a1, z2, a2, z3, a3 = self._feedforward(X, w1, w2 + epsilon_ary2)\n",
    "                cost2 = self._get_cost(y_enc, a3,  w1, w2 + epsilon_ary2)\n",
    "                num_grad2[i, j] = (cost2 - cost1) / (2*epsilon)\n",
    "                epsilon_ary2[i, j] = 0\n",
    "                    \n",
    "        #数値勾配と解析的勾配の列ベクトル化\n",
    "        num_grad = np.hstack((num_grad1.flatten(), num_grad2.flatten()))\n",
    "        grad = np.hstack((grad1.flatten(), grad2.flatten()))\n",
    "        #数値勾配と解析的勾配の差のノルム\n",
    "        norm1= np.linalg.norm(num_grad - grad)\n",
    "        #数値勾配のノルム\n",
    "        norm2= np.linalg.norm(num_grad)\n",
    "        #解析的勾配のノルム\n",
    "        norm3= np.linalg.norm(grad)\n",
    "        #相対誤差を計算\n",
    "        relative_error = norm1 / (norm2 + norm3)\n",
    "        return relative_error \n",
    "    "
   ]
  },
  {
   "cell_type": "code",
   "execution_count": null,
   "metadata": {
    "collapsed": true
   },
   "outputs": [],
   "source": []
  }
 ],
 "metadata": {
  "kernelspec": {
   "display_name": "Python 3",
   "language": "python",
   "name": "python3"
  },
  "language_info": {
   "codemirror_mode": {
    "name": "ipython",
    "version": 3
   },
   "file_extension": ".py",
   "mimetype": "text/x-python",
   "name": "python",
   "nbconvert_exporter": "python",
   "pygments_lexer": "ipython3",
   "version": "3.5.1"
  }
 },
 "nbformat": 4,
 "nbformat_minor": 0
}
